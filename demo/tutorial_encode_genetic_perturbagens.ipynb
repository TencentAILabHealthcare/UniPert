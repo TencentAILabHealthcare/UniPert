{
 "cells": [
  {
   "cell_type": "markdown",
   "metadata": {},
   "source": [
    "## Tutorial: Encode Genetic Perturbagens (Genes/Proteins) with UniPert\n",
    "\n",
    "\n",
    "In this tutorial, we will introduce `2` ways for obtaining `genetic perturbagen embeddings` using `UniPert`:\n",
    "\n",
    "\n",
    "1. **Generating from a FASTA File**: By providing a `FASTA file` containing `amino acid sequences`, we can directly generate UniProt embeddings of the entries in the FASTA file. This method is suitable for cases where users already downloaded the sequence information of query perturbagens and is `faster` since it does not require sequence retrieval.\n",
    "\n",
    "2. **Generating from a Gene Name List**: If you have a list of `gene names`, we can generate the embeddings by querying the corresponding amino acid sequences through the `UniProt API`. This method is useful when you have gene names but not the direct sequence data, but it requires `internet access` and is `slower` due to the need for sequence retrieval.\n",
    "\n",
    "Please follow the steps and choose the appropriate method based on your needs:\n",
    "\n",
    "1. [Prepare UniPert model](#prepare-unipert-model)\n",
    "2. [Generate perturbagen embeddings](#generate-perturbagen-embeddings)\n",
    "   \n",
    "   * [From FASTA File](#from-fasta-file)\n",
    "   * [From Gene Name List](#from-gene-name-list)\n",
    "  \n",
    "3. [Save embeddings](#save-embedddings)\n"
   ]
  },
  {
   "cell_type": "markdown",
   "metadata": {},
   "source": [
    "## Prepare UniPert model"
   ]
  },
  {
   "cell_type": "code",
   "execution_count": 2,
   "metadata": {},
   "outputs": [
    {
     "name": "stdout",
     "output_type": "stream",
     "text": [
      "💡 CUDA is available. Using CUDA.\n",
      "💡 \u001b[1;93mConstructing UniPert model...\u001b[0m\n",
      "✅ ESM2 model loaded.\n",
      "✅ Reference ESM2 embedding file loaded.\n",
      "✅ ESM2 embedder created.\n",
      "✅ ECFP4 embedder loaded.\n",
      "✅ UniPert model constructed.\n",
      "✅ Pretrained model file loaded.\n",
      "✅ Reference target graph prepared.\n",
      "✅ \u001b[1;92mModel loaded and initialized.\u001b[0m\n"
     ]
    }
   ],
   "source": [
    "import sys\n",
    "sys.path.append('../')\n",
    "from unipert import UniPert\n",
    "\n",
    "unipert = UniPert()"
   ]
  },
  {
   "cell_type": "markdown",
   "metadata": {},
   "source": [
    "## Generate perturbagen embeddings"
   ]
  },
  {
   "cell_type": "markdown",
   "metadata": {},
   "source": [
    "### From FASTA File"
   ]
  },
  {
   "cell_type": "markdown",
   "metadata": {},
   "source": [
    "#### Generate UniPert Embeddings for FASTA file\n",
    "\n",
    "Example FASTA file downloaded from the UniProt website.\n"
   ]
  },
  {
   "cell_type": "code",
   "execution_count": 2,
   "metadata": {},
   "outputs": [
    {
     "name": "stdout",
     "output_type": "stream",
     "text": [
      "💡 Constructing reference-custom target graph from ../demo_data/UniProt_target_sequence.fasta...\n",
      "💡 Preparing MMseqs and creating reference database...\n",
      "[16:18:00 +08:00] [mmseqs] [---I---] [thread 173831] Converting sequences\n",
      "[16:18:00 +08:00] [mmseqs] [---I---] [thread 173831] \n",
      "[16:18:00 +08:00] [mmseqs] [---I---] [thread 173831] Time for merging to ref_h: 0h 0m 0s 204ms\n",
      "[16:18:00 +08:00] [mmseqs] [---I---] [thread 173831] Time for merging to ref: 0h 0m 0s 14ms\n",
      "[16:18:00 +08:00] [mmseqs] [---I---] [thread 173831] Database type: Aminoacid\n",
      "[16:18:00 +08:00] [mmseqs] [---I---] [thread 173831] Time for processing: 0h 0m 0s 743ms\n",
      "✅ MMseqs reference database created.\n",
      "💡 Calculating similarity between ../demo_data/UniProt_target_sequence.fasta and reference fasta file...\n",
      "[16:18:00 +08:00] [mmseqs] [---I---] [thread 173831] Temporary path /fionafyang/lynnymli/scPerturb/mmseqs_storage/workdir/tmp_FbHbU2M5mCCxMA0yodbgbrjyR does not exist or is not a directory. It will be created.\n",
      "[16:18:00 +08:00] [mmseqs] [---I---] [thread 173831] Created temporary directory /fionafyang/lynnymli/scPerturb/mmseqs_storage/workdir/tmp_FbHbU2M5mCCxMA0yodbgbrjyR\n",
      "[16:18:00 +08:00] [mmseqs] [---I---] [thread 173831] Converting sequences\n",
      "[16:18:00 +08:00] [mmseqs] [---I---] [thread 173831] \n",
      "[16:18:01 +08:00] [mmseqs] [---I---] [thread 173831] Time for merging to query_h: 0h 0m 0s 155ms\n",
      "[16:18:01 +08:00] [mmseqs] [---I---] [thread 173831] Time for merging to query: 0h 0m 0s 23ms\n",
      "[16:18:01 +08:00] [mmseqs] [---I---] [thread 173831] Database type: Aminoacid\n",
      "[16:18:01 +08:00] [mmseqs] [---I---] [thread 173831] Time for processing: 0h 0m 0s 221ms\n",
      "[16:18:01 +08:00] [mmseqs] [---I---] [thread 173831] Call search (subcall): search\n",
      "[16:18:01 +08:00] [mmseqs] [---I---] [thread 173831] Search: /fionafyang/lynnymli/scPerturb/mmseqs_storage/workdir/tmp_FbHbU2M5mCCxMA0yodbgbrjyR/abc/query /fionafyang/lynnymli/scPerturb/mmseqs_storage/databases/ref\n",
      "[16:18:01 +08:00] [mmseqs] [---I---] [thread 173831] step_search L\n",
      "[16:18:01 +08:00] [mmseqs] [---I---] [thread 173831] step_search K_1\n",
      "[16:18:01 +08:00] [mmseqs] [---I---] [thread 173831] step_search K_2: prefilter /fionafyang/lynnymli/scPerturb/mmseqs_storage/workdir/tmp_FbHbU2M5mCCxMA0yodbgbrjyR/abc/query /fionafyang/lynnymli/scPerturb/mmseqs_storage/databases/ref /fionafyang/lynnymli/scPerturb/mmseqs_storage/workdir/tmp_FbHbU2M5mCCxMA0yodbgbrjyR/search/pref_0\n",
      "[16:18:01 +08:00] [mmseqs] [---I---] [thread 173831] Query database size: 1, type: Aminoacid\n",
      "[16:18:01 +08:00] [mmseqs] [---I---] [thread 173831] Estimated memory consumption: 1G\n",
      "[16:18:01 +08:00] [mmseqs] [---I---] [thread 173831] Target database size: 19187, type: Aminoacid\n",
      "[16:18:01 +08:00] [mmseqs] [---I---] [thread 173831] Index table k-mer threshold: 112 at k-mer size 6\n",
      "[16:18:01 +08:00] [mmseqs] [---I---] [thread 173831] Index table: counting k-mers\n",
      "[16:18:04 +08:00] [mmseqs] [---I---] [thread 173831] Index table: Masked residues: 560658\n",
      "[16:18:04 +08:00] [mmseqs] [---I---] [thread 173831] Index table: fill\n",
      "[16:18:06 +08:00] [mmseqs] [---I---] [thread 173831] Generated index with 10149540 entries (size 546 MB)\n",
      "[16:18:06 +08:00] [mmseqs] [---I---] [thread 173831] Time for index table init: 0h 0m 5s 507ms\n",
      "[16:18:10 +08:00] [mmseqs] [---I---] [thread 173831] Process prefiltering step 1 of 1\n",
      "[16:18:10 +08:00] [mmseqs] [---I---] [thread 173831] k-mer similarity threshold: 112\n",
      "[16:18:10 +08:00] [mmseqs] [---I---] [thread 173831] Starting prefiltering scores calculation (step 1 of 1)\n",
      "[16:18:10 +08:00] [mmseqs] [---I---] [thread 173831] Query db start 1 to 1\n",
      "[16:18:10 +08:00] [mmseqs] [---I---] [thread 173831] Target db start 1 to 19187\n",
      "[16:18:10 +08:00] [mmseqs] [---I---] [thread 173831] 281.78275862068966 k-mers per position\n",
      "[16:18:10 +08:00] [mmseqs] [---I---] [thread 173831] 11279 DB matches per sequence\n",
      "[16:18:10 +08:00] [mmseqs] [---I---] [thread 173831] 0 overflows\n",
      "[16:18:10 +08:00] [mmseqs] [---I---] [thread 173831] 0 queries produce too many hits (truncated result)\n",
      "[16:18:10 +08:00] [mmseqs] [---I---] [thread 173831] 114 sequences passed prefiltering per query sequence\n",
      "[16:18:10 +08:00] [mmseqs] [---I---] [thread 173831] 114 median result list length\n",
      "[16:18:10 +08:00] [mmseqs] [---I---] [thread 173831] 0 sequences with 0 size result lists\n",
      "[16:18:10 +08:00] [mmseqs] [---I---] [thread 173831] Time for merging to pref_0: 0h 0m 0s 24ms\n",
      "[16:18:10 +08:00] [mmseqs] [---I---] [thread 173831] Time for processing: 0h 0m 9s 774ms\n",
      "[16:18:10 +08:00] [mmseqs] [---I---] [thread 173831] step_search K_3\n",
      "[16:18:10 +08:00] [mmseqs] [---I---] [thread 173831] step_search K_4\n",
      "[16:18:10 +08:00] [mmseqs] [---I---] [thread 173831] step_search K_5\n",
      "[16:18:10 +08:00] [mmseqs] [---I---] [thread 173831] Compute score, coverage and sequence identity\n",
      "[16:18:10 +08:00] [mmseqs] [---I---] [thread 173831] Query database size: 1 type: Aminoacid. Target database size: 19187 type: Aminoacid\n",
      "[16:18:10 +08:00] [mmseqs] [---I---] [thread 173831] Calculation of alignments\n",
      "[16:18:11 +08:00] [mmseqs] [---I---] [thread 173831] Time for merging to result: 0h 0m 0s 175ms\n",
      "[16:18:11 +08:00] [mmseqs] [---I---] [thread 173831] 114 alignments calculated\n",
      "[16:18:11 +08:00] [mmseqs] [---I---] [thread 173831] 11 sequence pairs passed the thresholds\n",
      "[16:18:11 +08:00] [mmseqs] [---I---] [thread 173831]  (0.096491225 of overall calculated)\n",
      "[16:18:11 +08:00] [mmseqs] [---I---] [thread 173831] \n",
      "[16:18:11 +08:00] [mmseqs] [---I---] [thread 173831] 11 hits per query sequence\n",
      "[16:18:11 +08:00] [mmseqs] [---I---] [thread 173831] Time for processing: 0h 0m 0s 307ms\n",
      "[16:18:11 +08:00] [mmseqs] [---I---] [thread 173831] step_search K_6\n",
      "[16:18:11 +08:00] [mmseqs] [---I---] [thread 173831] step_search K_7\n",
      "[16:18:11 +08:00] [mmseqs] [---I---] [thread 173831] step_search K_12\n",
      "[16:18:11 +08:00] [mmseqs] [---I---] [thread 173831] step_search K_17\n",
      "[16:18:11 +08:00] [mmseqs] [---I---] [thread 173831] step_search K_18\n",
      "[16:18:11 +08:00] [mmseqs] [---I---] [thread 173831] step_search K_19\n",
      "[16:18:11 +08:00] [mmseqs] [---I---] [thread 173831] Time for processing: 0h 0m 10s 124ms\n",
      "[16:18:11 +08:00] [mmseqs] [---I---] [thread 173831] Call search terminted (subcall): search\n",
      "[16:18:11 +08:00] [mmseqs] [---I---] [thread 173831] Call convertalis\n",
      "[16:18:11 +08:00] [mmseqs] [---I---] [thread 173831] convertalis /fionafyang/lynnymli/scPerturb/mmseqs_storage/workdir/tmp_FbHbU2M5mCCxMA0yodbgbrjyR/abc/query /fionafyang/lynnymli/scPerturb/mmseqs_storage/databases/ref /fionafyang/lynnymli/scPerturb/mmseqs_storage/workdir/tmp_FbHbU2M5mCCxMA0yodbgbrjyR/abc/result /fionafyang/lynnymli/scPerturb/mmseqs_storage/results/ref83xkzLIf5xLZ5chVtFYlD3PJx.query_results.m8\n",
      "[16:18:11 +08:00] [mmseqs] [---I---] [thread 173831] Time for merging to ref83xkzLIf5xLZ5chVtFYlD3PJx.query_results.m8: 0h 0m 0s 27ms\n",
      "[16:18:11 +08:00] [mmseqs] [---I---] [thread 173831] Time for processing: 0h 0m 0s 69ms\n",
      "[16:18:11 +08:00] [mmseqs] [---I---] [thread 173831] Time for processing: 0h 0m 10s 444ms\n",
      "✅ MMseqs2 results saved to /fionafyang/lynnymli/scPerturb/data/custom_target_seq_similarity.csv\n"
     ]
    },
    {
     "name": "stderr",
     "output_type": "stream",
     "text": [
      "100%|██████████| 1/1 [00:00<00:00,  1.02it/s]"
     ]
    },
    {
     "name": "stdout",
     "output_type": "stream",
     "text": [
      "✅ ESM2 embeddings with 2 querys generated.\n"
     ]
    },
    {
     "name": "stderr",
     "output_type": "stream",
     "text": [
      "\n"
     ]
    }
   ],
   "source": [
    "out_embs = unipert.enc_gene_ptbgs_from_fasta(\n",
    "    custom_seq_fasta='../demo_data/UniProt_target_sequence.fasta', \n",
    "    save=False\n",
    "    )"
   ]
  },
  {
   "cell_type": "code",
   "execution_count": 3,
   "metadata": {},
   "outputs": [
    {
     "data": {
      "text/plain": [
       "dict_keys(['Q9NZQ7'])"
      ]
     },
     "execution_count": 3,
     "metadata": {},
     "output_type": "execute_result"
    }
   ],
   "source": [
    "out_embs.keys()"
   ]
  },
  {
   "cell_type": "markdown",
   "metadata": {},
   "source": [
    "### From Gene Name List"
   ]
  },
  {
   "cell_type": "markdown",
   "metadata": {},
   "source": [
    "#### Generate UniPert embeddings for gene name list\n",
    "\n",
    "UniPert will retrieve corrosponding canonical amino acid sequences via UniProt website API and generate the embeddings."
   ]
  },
  {
   "cell_type": "code",
   "execution_count": 4,
   "metadata": {},
   "outputs": [],
   "source": [
    "gn_list = ['ETV7', 'IFNGR1', 'IRF7', 'PDL1', 'MARCH8', 'IRF1', 'IFNGR2', 'STAT2', 'ATF2', 'CAV1']"
   ]
  },
  {
   "cell_type": "code",
   "execution_count": 5,
   "metadata": {},
   "outputs": [
    {
     "name": "stdout",
     "output_type": "stream",
     "text": [
      "✅ Referece representations loaded.\n",
      "✅ 19187 ref targets encoded.\n",
      "💡 Encoding 10 genetic perturbagens with UniPert...\n"
     ]
    },
    {
     "name": "stderr",
     "output_type": "stream",
     "text": [
      "100%|██████████| 10/10 [00:01<00:00,  6.20it/s]\n"
     ]
    },
    {
     "name": "stdout",
     "output_type": "stream",
     "text": [
      "💡 Constructing reference-custom target graph from ../demo_data/UniProt_target_sequence.fasta...\n",
      "💡 Calculating similarity between ../demo_data/UniProt_target_sequence.fasta and reference fasta file...\n",
      "[16:18:51 +08:00] [mmseqs] [---I---] [thread 173831] Temporary path /fionafyang/lynnymli/scPerturb/mmseqs_storage/workdir/tmp_9RnEZ0jiaFz6W6BI7w5T92sbq does not exist or is not a directory. It will be created.\n",
      "[16:18:51 +08:00] [mmseqs] [---I---] [thread 173831] Created temporary directory /fionafyang/lynnymli/scPerturb/mmseqs_storage/workdir/tmp_9RnEZ0jiaFz6W6BI7w5T92sbq\n",
      "[16:18:51 +08:00] [mmseqs] [---I---] [thread 173831] Converting sequences\n",
      "[16:18:51 +08:00] [mmseqs] [---I---] [thread 173831] \n",
      "[16:18:51 +08:00] [mmseqs] [---I---] [thread 173831] Time for merging to query_h: 0h 0m 0s 10ms\n",
      "[16:18:51 +08:00] [mmseqs] [---I---] [thread 173831] Time for merging to query: 0h 0m 0s 10ms\n",
      "[16:18:51 +08:00] [mmseqs] [---I---] [thread 173831] Database type: Aminoacid\n",
      "[16:18:51 +08:00] [mmseqs] [---I---] [thread 173831] Time for processing: 0h 0m 0s 57ms\n",
      "[16:18:51 +08:00] [mmseqs] [---I---] [thread 173831] Call search (subcall): search\n",
      "[16:18:51 +08:00] [mmseqs] [---I---] [thread 173831] Search: /fionafyang/lynnymli/scPerturb/mmseqs_storage/workdir/tmp_9RnEZ0jiaFz6W6BI7w5T92sbq/abc/query /fionafyang/lynnymli/scPerturb/mmseqs_storage/databases/ref\n",
      "[16:18:51 +08:00] [mmseqs] [---I---] [thread 173831] step_search L\n",
      "[16:18:51 +08:00] [mmseqs] [---I---] [thread 173831] step_search K_1\n",
      "[16:18:51 +08:00] [mmseqs] [---I---] [thread 173831] step_search K_2: prefilter /fionafyang/lynnymli/scPerturb/mmseqs_storage/workdir/tmp_9RnEZ0jiaFz6W6BI7w5T92sbq/abc/query /fionafyang/lynnymli/scPerturb/mmseqs_storage/databases/ref /fionafyang/lynnymli/scPerturb/mmseqs_storage/workdir/tmp_9RnEZ0jiaFz6W6BI7w5T92sbq/search/pref_0\n",
      "[16:18:51 +08:00] [mmseqs] [---I---] [thread 173831] Query database size: 1, type: Aminoacid\n",
      "[16:18:51 +08:00] [mmseqs] [---I---] [thread 173831] Estimated memory consumption: 1G\n",
      "[16:18:51 +08:00] [mmseqs] [---I---] [thread 173831] Target database size: 19187, type: Aminoacid\n",
      "[16:18:51 +08:00] [mmseqs] [---I---] [thread 173831] Index table k-mer threshold: 112 at k-mer size 6\n",
      "[16:18:51 +08:00] [mmseqs] [---I---] [thread 173831] Index table: counting k-mers\n",
      "[16:18:54 +08:00] [mmseqs] [---I---] [thread 173831] Index table: Masked residues: 560658\n",
      "[16:18:55 +08:00] [mmseqs] [---I---] [thread 173831] Index table: fill\n",
      "[16:18:57 +08:00] [mmseqs] [---I---] [thread 173831] Generated index with 10149540 entries (size 546 MB)\n",
      "[16:18:57 +08:00] [mmseqs] [---I---] [thread 173831] Time for index table init: 0h 0m 5s 461ms\n",
      "[16:19:01 +08:00] [mmseqs] [---I---] [thread 173831] Process prefiltering step 1 of 1\n",
      "[16:19:01 +08:00] [mmseqs] [---I---] [thread 173831] k-mer similarity threshold: 112\n",
      "[16:19:01 +08:00] [mmseqs] [---I---] [thread 173831] Starting prefiltering scores calculation (step 1 of 1)\n",
      "[16:19:01 +08:00] [mmseqs] [---I---] [thread 173831] Query db start 1 to 1\n",
      "[16:19:01 +08:00] [mmseqs] [---I---] [thread 173831] Target db start 1 to 19187\n",
      "[16:19:01 +08:00] [mmseqs] [---I---] [thread 173831] 281.78275862068966 k-mers per position\n",
      "[16:19:01 +08:00] [mmseqs] [---I---] [thread 173831] 11279 DB matches per sequence\n",
      "[16:19:01 +08:00] [mmseqs] [---I---] [thread 173831] 0 overflows\n",
      "[16:19:01 +08:00] [mmseqs] [---I---] [thread 173831] 0 queries produce too many hits (truncated result)\n",
      "[16:19:01 +08:00] [mmseqs] [---I---] [thread 173831] 114 sequences passed prefiltering per query sequence\n",
      "[16:19:01 +08:00] [mmseqs] [---I---] [thread 173831] 114 median result list length\n",
      "[16:19:01 +08:00] [mmseqs] [---I---] [thread 173831] 0 sequences with 0 size result lists\n",
      "[16:19:01 +08:00] [mmseqs] [---I---] [thread 173831] Time for merging to pref_0: 0h 0m 0s 27ms\n",
      "[16:19:01 +08:00] [mmseqs] [---I---] [thread 173831] Time for processing: 0h 0m 9s 559ms\n",
      "[16:19:01 +08:00] [mmseqs] [---I---] [thread 173831] step_search K_3\n",
      "[16:19:01 +08:00] [mmseqs] [---I---] [thread 173831] step_search K_4\n",
      "[16:19:01 +08:00] [mmseqs] [---I---] [thread 173831] step_search K_5\n",
      "[16:19:01 +08:00] [mmseqs] [---I---] [thread 173831] Compute score, coverage and sequence identity\n",
      "[16:19:01 +08:00] [mmseqs] [---I---] [thread 173831] Query database size: 1 type: Aminoacid. Target database size: 19187 type: Aminoacid\n",
      "[16:19:01 +08:00] [mmseqs] [---I---] [thread 173831] Calculation of alignments\n",
      "[16:19:01 +08:00] [mmseqs] [---I---] [thread 173831] Time for merging to result: 0h 0m 0s 135ms\n",
      "[16:19:01 +08:00] [mmseqs] [---I---] [thread 173831] 114 alignments calculated\n",
      "[16:19:01 +08:00] [mmseqs] [---I---] [thread 173831] 11 sequence pairs passed the thresholds\n",
      "[16:19:01 +08:00] [mmseqs] [---I---] [thread 173831]  (0.096491225 of overall calculated)\n",
      "[16:19:01 +08:00] [mmseqs] [---I---] [thread 173831] \n",
      "[16:19:01 +08:00] [mmseqs] [---I---] [thread 173831] 11 hits per query sequence\n",
      "[16:19:01 +08:00] [mmseqs] [---I---] [thread 173831] Time for processing: 0h 0m 0s 242ms\n",
      "[16:19:01 +08:00] [mmseqs] [---I---] [thread 173831] step_search K_6\n",
      "[16:19:01 +08:00] [mmseqs] [---I---] [thread 173831] step_search K_7\n",
      "[16:19:01 +08:00] [mmseqs] [---I---] [thread 173831] step_search K_12\n",
      "[16:19:01 +08:00] [mmseqs] [---I---] [thread 173831] step_search K_17\n",
      "[16:19:01 +08:00] [mmseqs] [---I---] [thread 173831] step_search K_18\n",
      "[16:19:01 +08:00] [mmseqs] [---I---] [thread 173831] step_search K_19\n",
      "[16:19:01 +08:00] [mmseqs] [---I---] [thread 173831] Time for processing: 0h 0m 9s 844ms\n",
      "[16:19:01 +08:00] [mmseqs] [---I---] [thread 173831] Call search terminted (subcall): search\n",
      "[16:19:01 +08:00] [mmseqs] [---I---] [thread 173831] Call convertalis\n",
      "[16:19:01 +08:00] [mmseqs] [---I---] [thread 173831] convertalis /fionafyang/lynnymli/scPerturb/mmseqs_storage/workdir/tmp_9RnEZ0jiaFz6W6BI7w5T92sbq/abc/query /fionafyang/lynnymli/scPerturb/mmseqs_storage/databases/ref /fionafyang/lynnymli/scPerturb/mmseqs_storage/workdir/tmp_9RnEZ0jiaFz6W6BI7w5T92sbq/abc/result /fionafyang/lynnymli/scPerturb/mmseqs_storage/results/refJE2dQd739ryizSgw5qbUT8ml1.query_results.m8\n",
      "[16:19:01 +08:00] [mmseqs] [---I---] [thread 173831] Time for merging to refJE2dQd739ryizSgw5qbUT8ml1.query_results.m8: 0h 0m 0s 37ms\n",
      "[16:19:01 +08:00] [mmseqs] [---I---] [thread 173831] Time for processing: 0h 0m 0s 63ms\n",
      "[16:19:01 +08:00] [mmseqs] [---I---] [thread 173831] Time for processing: 0h 0m 9s 990ms\n",
      "✅ MMseqs2 results saved to /fionafyang/lynnymli/scPerturb/data/custom_target_seq_similarity.csv\n"
     ]
    },
    {
     "name": "stderr",
     "output_type": "stream",
     "text": [
      "100%|██████████| 1/1 [00:00<00:00,  7.20it/s]"
     ]
    },
    {
     "name": "stdout",
     "output_type": "stream",
     "text": [
      "✅ ESM2 embeddings with 2 querys generated.\n"
     ]
    },
    {
     "name": "stderr",
     "output_type": "stream",
     "text": [
      "\n"
     ]
    },
    {
     "name": "stdout",
     "output_type": "stream",
     "text": [
      "✅ 10 encoded succesfully, 0 failed.\n"
     ]
    }
   ],
   "source": [
    "out_embs, invalid_inputs = unipert.enc_gene_ptbgs_from_gene_names(gene_names=gn_list)"
   ]
  },
  {
   "cell_type": "code",
   "execution_count": 6,
   "metadata": {},
   "outputs": [
    {
     "data": {
      "text/plain": [
       "(dict_keys(['ETV7', 'IFNGR2', 'IFNGR1', 'ATF2', 'CAV1', 'MARCH8', 'IRF1', 'STAT2', 'IRF7', 'PDL1']),\n",
       " [])"
      ]
     },
     "execution_count": 6,
     "metadata": {},
     "output_type": "execute_result"
    }
   ],
   "source": [
    "out_embs.keys(), invalid_inputs"
   ]
  },
  {
   "cell_type": "code",
   "execution_count": 7,
   "metadata": {},
   "outputs": [
    {
     "data": {
      "text/plain": [
       "(10, 256)"
      ]
     },
     "execution_count": 7,
     "metadata": {},
     "output_type": "execute_result"
    }
   ],
   "source": [
    "import numpy as np\n",
    "\n",
    "combined_embs = np.concatenate([emb.reshape(1, -1) for emb in out_embs.values()], axis=0)\n",
    "combined_embs.shape"
   ]
  },
  {
   "cell_type": "markdown",
   "metadata": {},
   "source": [
    "## Save embedddings"
   ]
  },
  {
   "cell_type": "code",
   "execution_count": 8,
   "metadata": {},
   "outputs": [],
   "source": [
    "import pickle\n",
    "\n",
    "with open('../demo_data/embeddings_output.pkl', 'wb') as f:\n",
    "    pickle.dump(out_embs, f) \n"
   ]
  }
 ],
 "metadata": {
  "kernelspec": {
   "display_name": "performer",
   "language": "python",
   "name": "python3"
  },
  "language_info": {
   "codemirror_mode": {
    "name": "ipython",
    "version": 3
   },
   "file_extension": ".py",
   "mimetype": "text/x-python",
   "name": "python",
   "nbconvert_exporter": "python",
   "pygments_lexer": "ipython3",
   "version": "3.9.19"
  }
 },
 "nbformat": 4,
 "nbformat_minor": 2
}

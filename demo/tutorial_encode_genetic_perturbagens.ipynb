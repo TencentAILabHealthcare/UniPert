{
 "cells": [
  {
   "cell_type": "markdown",
   "metadata": {},
   "source": [
    "## Tutorial: Encode Genetic Perturbagens (Genes/Proteins) with UniPert\n",
    "\n",
    "\n",
    "In this tutorial, we will introduce `2` ways for obtaining `genetic perturbagen embeddings` using `UniPert`:\n",
    "\n",
    "\n",
    "1. **Generating from a FASTA File**: By providing a `FASTA file` containing `amino acid sequences`, we can directly generate UniProt embeddings of the entries in the FASTA file. This method is suitable for cases where users already downloaded the sequence information of query perturbagens and is `faster` since it does not require sequence retrieval.\n",
    "\n",
    "2. **Generating from a Gene Name List**: If you have a list of `gene names`, we can generate the embeddings by querying the corresponding amino acid sequences through the `UniProt API`. This method is useful when you have gene names but not the direct sequence data, but it requires `internet access` and is `slower` due to the need for sequence retrieval.\n",
    "\n",
    "Please follow the steps and choose the appropriate method based on your needs:\n",
    "\n",
    "1. [Prepare UniPert model](#prepare-unipert-model)\n",
    "2. [Generate perturbagen embeddings](#generate-perturbagen-embeddings)\n",
    "   \n",
    "   * [From FASTA File](#from-fasta-file)\n",
    "   * [From Gene Name List](#from-gene-name-list)\n",
    "  \n",
    "3. [Save embeddings](#save-embedddings)\n"
   ]
  },
  {
   "cell_type": "markdown",
   "metadata": {},
   "source": [
    "## Prepare UniPert model"
   ]
  },
  {
   "cell_type": "code",
   "execution_count": 2,
   "metadata": {},
   "outputs": [
    {
     "name": "stdout",
     "output_type": "stream",
     "text": [
      "💡 CUDA is available. Using CUDA.\n",
      "💡 \u001b[1;93mConstructing UniPert model...\u001b[0m\n",
      "✅ ESM2 model loaded.\n",
      "✅ Reference ESM2 embedding file loaded.\n",
      "✅ ESM2 embedder created.\n",
      "✅ ECFP4 embedder created.\n",
      "✅ UniPert model constructed.\n",
      "✅ Pretrained model file loaded.\n",
      "✅ Reference target graph prepared.\n",
      "✅ \u001b[1;92mModel loaded and initialized.\u001b[0m\n"
     ]
    }
   ],
   "source": [
    "import sys\n",
    "sys.path.append('../')\n",
    "from unipert import UniPert\n",
    "\n",
    "unipert = UniPert()"
   ]
  },
  {
   "cell_type": "markdown",
   "metadata": {},
   "source": [
    "## Generate perturbagen embeddings"
   ]
  },
  {
   "cell_type": "markdown",
   "metadata": {},
   "source": [
    "### From FASTA File"
   ]
  },
  {
   "cell_type": "markdown",
   "metadata": {},
   "source": [
    "#### Generate UniPert Embeddings for FASTA file\n",
    "\n",
    "Example FASTA file downloaded from the UniProt website.\n"
   ]
  },
  {
   "cell_type": "code",
   "execution_count": 3,
   "metadata": {},
   "outputs": [
    {
     "name": "stdout",
     "output_type": "stream",
     "text": [
      "💡 Constructing reference-custom target graph from ../demo_data/UniProt_target_sequence.fasta...\n",
      "💡 Preparing MMseqs and creating reference database...\n",
      "[03:59:43 +08:00] [mmseqs] [---I---] [thread 2864885] Converting sequences\n",
      "✅ MMseqs reference database created.\n",
      "[03:59:43 +08:00] [mmseqs] [---I---] [thread 2864885] \n",
      "[03:59:43 +08:00] [mmseqs] [---I---] [thread 2864885] Time for merging to ref_h: 0h 0m 0s 0ms\n",
      "[03:59:43 +08:00] [mmseqs] [---I---] [thread 2864885] Time for merging to ref: 0h 0m 0s 0ms\n",
      "[03:59:43 +08:00] [mmseqs] [---I---] [thread 2864885] Database type: Aminoacid\n",
      "[03:59:43 +08:00] [mmseqs] [---I---] [thread 2864885] Time for processing: 0h 0m 0s 193ms\n",
      "💡 Calculating similarity between ../demo_data/UniProt_target_sequence.fasta and reference fasta file...\n",
      "[03:59:43 +08:00] [mmseqs] [---I---] [thread 2864885] Temporary path /data0/lsn1/lisn/VCC/UniPert/mmseqs_storage/workdir/tmp_LU81C3ngaxIIC5VQKN93j5AGt does not exist or is not a directory. It will be created.\n",
      "[03:59:43 +08:00] [mmseqs] [---I---] [thread 2864885] Created temporary directory /data0/lsn1/lisn/VCC/UniPert/mmseqs_storage/workdir/tmp_LU81C3ngaxIIC5VQKN93j5AGt\n",
      "[03:59:43 +08:00] [mmseqs] [---I---] [thread 2864885] Converting sequences\n",
      "[03:59:43 +08:00] [mmseqs] [---I---] [thread 2864885] \n",
      "[03:59:43 +08:00] [mmseqs] [---I---] [thread 2864885] Time for merging to query_h: 0h 0m 0s 0ms\n",
      "[03:59:43 +08:00] [mmseqs] [---I---] [thread 2864885] Time for merging to query: 0h 0m 0s 0ms\n",
      "[03:59:43 +08:00] [mmseqs] [---I---] [thread 2864885] Database type: Aminoacid\n",
      "[03:59:43 +08:00] [mmseqs] [---I---] [thread 2864885] Time for processing: 0h 0m 0s 0ms\n",
      "[03:59:43 +08:00] [mmseqs] [---I---] [thread 2864885] Call search (subcall): search\n",
      "[03:59:43 +08:00] [mmseqs] [---I---] [thread 2864885] Search: /data0/lsn1/lisn/VCC/UniPert/mmseqs_storage/workdir/tmp_LU81C3ngaxIIC5VQKN93j5AGt/abc/query /data0/lsn1/lisn/VCC/UniPert/mmseqs_storage/databases/ref\n",
      "[03:59:43 +08:00] [mmseqs] [---I---] [thread 2864885] step_search L\n",
      "[03:59:43 +08:00] [mmseqs] [---I---] [thread 2864885] step_search K_1\n",
      "[03:59:43 +08:00] [mmseqs] [---I---] [thread 2864885] step_search K_2: prefilter /data0/lsn1/lisn/VCC/UniPert/mmseqs_storage/workdir/tmp_LU81C3ngaxIIC5VQKN93j5AGt/abc/query /data0/lsn1/lisn/VCC/UniPert/mmseqs_storage/databases/ref /data0/lsn1/lisn/VCC/UniPert/mmseqs_storage/workdir/tmp_LU81C3ngaxIIC5VQKN93j5AGt/search/pref_0\n",
      "[03:59:43 +08:00] [mmseqs] [---I---] [thread 2864885] Query database size: 2, type: Aminoacid\n",
      "[03:59:43 +08:00] [mmseqs] [---I---] [thread 2864885] Estimated memory consumption: 1G\n",
      "[03:59:43 +08:00] [mmseqs] [---I---] [thread 2864885] Target database size: 19187, type: Aminoacid\n",
      "[03:59:43 +08:00] [mmseqs] [---I---] [thread 2864885] Index table k-mer threshold: 112 at k-mer size 6\n",
      "[03:59:43 +08:00] [mmseqs] [---I---] [thread 2864885] Index table: counting k-mers\n",
      "[03:59:44 +08:00] [mmseqs] [---I---] [thread 2864885] Index table: Masked residues: 560658\n",
      "[03:59:44 +08:00] [mmseqs] [---I---] [thread 2864885] Index table: fill\n",
      "[03:59:45 +08:00] [mmseqs] [---I---] [thread 2864885] Generated index with 10149540 entries (size 546 MB)\n",
      "[03:59:45 +08:00] [mmseqs] [---I---] [thread 2864885] Time for index table init: 0h 0m 1s 524ms\n",
      "[03:59:45 +08:00] [mmseqs] [---I---] [thread 2864885] Process prefiltering step 1 of 1\n",
      "[03:59:45 +08:00] [mmseqs] [---I---] [thread 2864885] k-mer similarity threshold: 112\n",
      "[03:59:45 +08:00] [mmseqs] [---I---] [thread 2864885] Starting prefiltering scores calculation (step 1 of 1)\n",
      "[03:59:45 +08:00] [mmseqs] [---I---] [thread 2864885] Query db start 1 to 2\n",
      "[03:59:45 +08:00] [mmseqs] [---I---] [thread 2864885] Target db start 1 to 19187\n",
      "[03:59:45 +08:00] [mmseqs] [---I---] [thread 2864885] 373.4051250148122 k-mers per position\n",
      "[03:59:45 +08:00] [mmseqs] [---I---] [thread 2864885] 12207 DB matches per sequence\n",
      "[03:59:45 +08:00] [mmseqs] [---I---] [thread 2864885] 0 overflows\n",
      "[03:59:45 +08:00] [mmseqs] [---I---] [thread 2864885] 0 queries produce too many hits (truncated result)\n",
      "[03:59:45 +08:00] [mmseqs] [---I---] [thread 2864885] 110 sequences passed prefiltering per query sequence\n",
      "[03:59:45 +08:00] [mmseqs] [---I---] [thread 2864885] 114 median result list length\n",
      "[03:59:45 +08:00] [mmseqs] [---I---] [thread 2864885] 0 sequences with 0 size result lists\n",
      "[03:59:45 +08:00] [mmseqs] [---I---] [thread 2864885] Time for merging to pref_0: 0h 0m 0s 0ms\n",
      "[03:59:45 +08:00] [mmseqs] [---I---] [thread 2864885] Time for processing: 0h 0m 1s 973ms\n",
      "[03:59:45 +08:00] [mmseqs] [---I---] [thread 2864885] step_search K_3\n",
      "[03:59:45 +08:00] [mmseqs] [---I---] [thread 2864885] step_search K_4\n",
      "[03:59:45 +08:00] [mmseqs] [---I---] [thread 2864885] step_search K_5\n",
      "[03:59:45 +08:00] [mmseqs] [---I---] [thread 2864885] Compute score, coverage and sequence identity\n",
      "[03:59:45 +08:00] [mmseqs] [---I---] [thread 2864885] Query database size: 2 type: Aminoacid. Target database size: 19187 type: Aminoacid\n",
      "[03:59:45 +08:00] [mmseqs] [---I---] [thread 2864885] Calculation of alignments\n",
      "[03:59:45 +08:00] [mmseqs] [---I---] [thread 2864885] Time for merging to result: 0h 0m 0s 0ms\n",
      "[03:59:45 +08:00] [mmseqs] [---I---] [thread 2864885] 220 alignments calculated\n",
      "[03:59:45 +08:00] [mmseqs] [---I---] [thread 2864885] 22 sequence pairs passed the thresholds\n",
      "[03:59:45 +08:00] [mmseqs] [---I---] [thread 2864885]  (0.1 of overall calculated)\n",
      "[03:59:45 +08:00] [mmseqs] [---I---] [thread 2864885] \n",
      "[03:59:45 +08:00] [mmseqs] [---I---] [thread 2864885] 11 hits per query sequence\n",
      "[03:59:45 +08:00] [mmseqs] [---I---] [thread 2864885] Time for processing: 0h 0m 0s 123ms\n",
      "[03:59:45 +08:00] [mmseqs] [---I---] [thread 2864885] step_search K_6\n",
      "[03:59:45 +08:00] [mmseqs] [---I---] [thread 2864885] step_search K_7\n",
      "[03:59:45 +08:00] [mmseqs] [---I---] [thread 2864885] step_search K_12\n",
      "[03:59:45 +08:00] [mmseqs] [---I---] [thread 2864885] step_search K_17\n",
      "[03:59:45 +08:00] [mmseqs] [---I---] [thread 2864885] step_search K_18\n",
      "[03:59:45 +08:00] [mmseqs] [---I---] [thread 2864885] step_search K_19\n",
      "[03:59:45 +08:00] [mmseqs] [---I---] [thread 2864885] Time for processing: 0h 0m 2s 97ms\n",
      "[03:59:45 +08:00] [mmseqs] [---I---] [thread 2864885] Call search terminted (subcall): search\n",
      "[03:59:45 +08:00] [mmseqs] [---I---] [thread 2864885] Call convertalis\n",
      "[03:59:45 +08:00] [mmseqs] [---I---] [thread 2864885] convertalis /data0/lsn1/lisn/VCC/UniPert/mmseqs_storage/workdir/tmp_LU81C3ngaxIIC5VQKN93j5AGt/abc/query /data0/lsn1/lisn/VCC/UniPert/mmseqs_storage/databases/ref /data0/lsn1/lisn/VCC/UniPert/mmseqs_storage/workdir/tmp_LU81C3ngaxIIC5VQKN93j5AGt/abc/result /data0/lsn1/lisn/VCC/UniPert/mmseqs_storage/results/ref4QieTHgX3NBtornLUdgBqxtn0.query_results.m8\n",
      "[03:59:45 +08:00] [mmseqs] [---I---] [thread 2864885] Time for merging to ref4QieTHgX3NBtornLUdgBqxtn0.query_results.m8: 0h 0m 0s 0ms\n",
      "[03:59:45 +08:00] [mmseqs] [---I---] [thread 2864885] Time for processing: 0h 0m 0s 7ms\n",
      "[03:59:45 +08:00] [mmseqs] [---I---] [thread 2864885] Time for processing: 0h 0m 2s 106ms\n",
      "✅ MMseqs2 results saved to /data0/lsn1/lisn/VCC/UniPert/data/custom_target_seq_similarity.csv\n"
     ]
    },
    {
     "name": "stderr",
     "output_type": "stream",
     "text": [
      "100%|██████████| 2/2 [00:00<00:00,  3.76it/s]"
     ]
    },
    {
     "name": "stdout",
     "output_type": "stream",
     "text": [
      "✅ ESM2 embeddings with 4 querys generated.\n"
     ]
    },
    {
     "name": "stderr",
     "output_type": "stream",
     "text": [
      "\n"
     ]
    }
   ],
   "source": [
    "out_embs = unipert.enc_gene_ptbgs_from_fasta(\n",
    "    custom_seq_fasta='../demo_data/UniProt_target_sequence.fasta', \n",
    "    save=False\n",
    "    )"
   ]
  },
  {
   "cell_type": "code",
   "execution_count": 4,
   "metadata": {},
   "outputs": [
    {
     "data": {
      "text/plain": [
       "dict_keys(['Q9NZQ7', 'Q5T0T0'])"
      ]
     },
     "execution_count": 4,
     "metadata": {},
     "output_type": "execute_result"
    }
   ],
   "source": [
    "out_embs.keys()"
   ]
  },
  {
   "cell_type": "markdown",
   "metadata": {},
   "source": [
    "### From Gene Name List"
   ]
  },
  {
   "cell_type": "markdown",
   "metadata": {},
   "source": [
    "#### Generate UniPert embeddings for gene name list\n",
    "\n",
    "UniPert will retrieve corrosponding canonical amino acid sequences via UniProt website API and generate the embeddings."
   ]
  },
  {
   "cell_type": "code",
   "execution_count": 5,
   "metadata": {},
   "outputs": [],
   "source": [
    "gn_list = ['ETV7', 'IFNGR1', 'IRF7', 'PDL1', 'MARCH8', 'IRF1', 'IFNGR2', 'STAT2', 'ATF2', 'CAV1']"
   ]
  },
  {
   "cell_type": "code",
   "execution_count": 6,
   "metadata": {},
   "outputs": [
    {
     "name": "stdout",
     "output_type": "stream",
     "text": [
      "✅ 19187 reference targets encoded.\n",
      "💡 Encoding 10 genetic perturbagens with UniPert...\n"
     ]
    },
    {
     "name": "stderr",
     "output_type": "stream",
     "text": [
      "100%|██████████| 10/10 [00:01<00:00,  5.26it/s]"
     ]
    },
    {
     "name": "stdout",
     "output_type": "stream",
     "text": [
      "💡 Constructing reference-custom target graph from ../demo_data/UniProt_target_sequence.fasta...\n",
      "💡 Calculating similarity between ../demo_data/UniProt_target_sequence.fasta and reference fasta file...\n"
     ]
    },
    {
     "name": "stderr",
     "output_type": "stream",
     "text": [
      "\n"
     ]
    },
    {
     "name": "stdout",
     "output_type": "stream",
     "text": [
      "[03:59:58 +08:00] [mmseqs] [---I---] [thread 2864885] Temporary path /data0/lsn1/lisn/VCC/UniPert/mmseqs_storage/workdir/tmp_z5yAKxZziUbqp42ZB2iwrfr7O does not exist or is not a directory. It will be created.\n",
      "[03:59:58 +08:00] [mmseqs] [---I---] [thread 2864885] Created temporary directory /data0/lsn1/lisn/VCC/UniPert/mmseqs_storage/workdir/tmp_z5yAKxZziUbqp42ZB2iwrfr7O\n",
      "[03:59:58 +08:00] [mmseqs] [---I---] [thread 2864885] Converting sequences\n",
      "[03:59:58 +08:00] [mmseqs] [---I---] [thread 2864885] \n",
      "[03:59:58 +08:00] [mmseqs] [---I---] [thread 2864885] Time for merging to query_h: 0h 0m 0s 0ms\n",
      "[03:59:58 +08:00] [mmseqs] [---I---] [thread 2864885] Time for merging to query: 0h 0m 0s 0ms\n",
      "[03:59:58 +08:00] [mmseqs] [---I---] [thread 2864885] Database type: Aminoacid\n",
      "[03:59:58 +08:00] [mmseqs] [---I---] [thread 2864885] Time for processing: 0h 0m 0s 0ms\n",
      "[03:59:58 +08:00] [mmseqs] [---I---] [thread 2864885] Call search (subcall): search\n",
      "[03:59:58 +08:00] [mmseqs] [---I---] [thread 2864885] Search: /data0/lsn1/lisn/VCC/UniPert/mmseqs_storage/workdir/tmp_z5yAKxZziUbqp42ZB2iwrfr7O/abc/query /data0/lsn1/lisn/VCC/UniPert/mmseqs_storage/databases/ref\n",
      "[03:59:58 +08:00] [mmseqs] [---I---] [thread 2864885] step_search L\n",
      "[03:59:58 +08:00] [mmseqs] [---I---] [thread 2864885] step_search K_1\n",
      "[03:59:58 +08:00] [mmseqs] [---I---] [thread 2864885] step_search K_2: prefilter /data0/lsn1/lisn/VCC/UniPert/mmseqs_storage/workdir/tmp_z5yAKxZziUbqp42ZB2iwrfr7O/abc/query /data0/lsn1/lisn/VCC/UniPert/mmseqs_storage/databases/ref /data0/lsn1/lisn/VCC/UniPert/mmseqs_storage/workdir/tmp_z5yAKxZziUbqp42ZB2iwrfr7O/search/pref_0\n",
      "[03:59:58 +08:00] [mmseqs] [---I---] [thread 2864885] Query database size: 2, type: Aminoacid\n",
      "[03:59:58 +08:00] [mmseqs] [---I---] [thread 2864885] Estimated memory consumption: 1G\n",
      "[03:59:58 +08:00] [mmseqs] [---I---] [thread 2864885] Target database size: 19187, type: Aminoacid\n",
      "[03:59:58 +08:00] [mmseqs] [---I---] [thread 2864885] Index table k-mer threshold: 112 at k-mer size 6\n",
      "[03:59:58 +08:00] [mmseqs] [---I---] [thread 2864885] Index table: counting k-mers\n",
      "[03:59:59 +08:00] [mmseqs] [---I---] [thread 2864885] Index table: Masked residues: 560658\n",
      "[03:59:59 +08:00] [mmseqs] [---I---] [thread 2864885] Index table: fill\n",
      "[04:00:00 +08:00] [mmseqs] [---I---] [thread 2864885] Generated index with 10149540 entries (size 546 MB)\n",
      "[04:00:00 +08:00] [mmseqs] [---I---] [thread 2864885] Time for index table init: 0h 0m 1s 487ms\n",
      "[04:00:00 +08:00] [mmseqs] [---I---] [thread 2864885] Process prefiltering step 1 of 1\n",
      "[04:00:00 +08:00] [mmseqs] [---I---] [thread 2864885] k-mer similarity threshold: 112\n",
      "[04:00:00 +08:00] [mmseqs] [---I---] [thread 2864885] Starting prefiltering scores calculation (step 1 of 1)\n",
      "[04:00:00 +08:00] [mmseqs] [---I---] [thread 2864885] Query db start 1 to 2\n",
      "[04:00:00 +08:00] [mmseqs] [---I---] [thread 2864885] Target db start 1 to 19187\n",
      "[04:00:00 +08:00] [mmseqs] [---I---] [thread 2864885] 373.4051250148122 k-mers per position\n",
      "[04:00:00 +08:00] [mmseqs] [---I---] [thread 2864885] 12207 DB matches per sequence\n",
      "[04:00:00 +08:00] [mmseqs] [---I---] [thread 2864885] 0 overflows\n",
      "[04:00:00 +08:00] [mmseqs] [---I---] [thread 2864885] 0 queries produce too many hits (truncated result)\n",
      "[04:00:00 +08:00] [mmseqs] [---I---] [thread 2864885] 110 sequences passed prefiltering per query sequence\n",
      "[04:00:00 +08:00] [mmseqs] [---I---] [thread 2864885] 114 median result list length\n",
      "[04:00:00 +08:00] [mmseqs] [---I---] [thread 2864885] 0 sequences with 0 size result lists\n",
      "[04:00:00 +08:00] [mmseqs] [---I---] [thread 2864885] Time for merging to pref_0: 0h 0m 0s 0ms\n",
      "[04:00:00 +08:00] [mmseqs] [---I---] [thread 2864885] Time for processing: 0h 0m 1s 934ms\n",
      "[04:00:00 +08:00] [mmseqs] [---I---] [thread 2864885] step_search K_3\n",
      "[04:00:00 +08:00] [mmseqs] [---I---] [thread 2864885] step_search K_4\n",
      "[04:00:00 +08:00] [mmseqs] [---I---] [thread 2864885] step_search K_5\n",
      "[04:00:00 +08:00] [mmseqs] [---I---] [thread 2864885] Compute score, coverage and sequence identity\n",
      "[04:00:00 +08:00] [mmseqs] [---I---] [thread 2864885] Query database size: 2 type: Aminoacid. Target database size: 19187 type: Aminoacid\n",
      "[04:00:00 +08:00] [mmseqs] [---I---] [thread 2864885] Calculation of alignments\n",
      "[04:00:00 +08:00] [mmseqs] [---I---] [thread 2864885] Time for merging to result: 0h 0m 0s 0ms\n",
      "[04:00:00 +08:00] [mmseqs] [---I---] [thread 2864885] 220 alignments calculated\n",
      "[04:00:00 +08:00] [mmseqs] [---I---] [thread 2864885] 22 sequence pairs passed the thresholds\n",
      "[04:00:00 +08:00] [mmseqs] [---I---] [thread 2864885]  (0.1 of overall calculated)\n",
      "[04:00:00 +08:00] [mmseqs] [---I---] [thread 2864885] \n",
      "[04:00:00 +08:00] [mmseqs] [---I---] [thread 2864885] 11 hits per query sequence\n",
      "[04:00:00 +08:00] [mmseqs] [---I---] [thread 2864885] Time for processing: 0h 0m 0s 125ms\n",
      "[04:00:00 +08:00] [mmseqs] [---I---] [thread 2864885] step_search K_6\n",
      "[04:00:00 +08:00] [mmseqs] [---I---] [thread 2864885] step_search K_7\n",
      "[04:00:00 +08:00] [mmseqs] [---I---] [thread 2864885] step_search K_12\n",
      "[04:00:00 +08:00] [mmseqs] [---I---] [thread 2864885] step_search K_17\n",
      "[04:00:00 +08:00] [mmseqs] [---I---] [thread 2864885] step_search K_18\n",
      "[04:00:00 +08:00] [mmseqs] [---I---] [thread 2864885] step_search K_19\n",
      "[04:00:00 +08:00] [mmseqs] [---I---] [thread 2864885] Time for processing: 0h 0m 2s 60ms\n",
      "[04:00:00 +08:00] [mmseqs] [---I---] [thread 2864885] Call search terminted (subcall): search\n",
      "[04:00:00 +08:00] [mmseqs] [---I---] [thread 2864885] Call convertalis\n",
      "[04:00:00 +08:00] [mmseqs] [---I---] [thread 2864885] convertalis /data0/lsn1/lisn/VCC/UniPert/mmseqs_storage/workdir/tmp_z5yAKxZziUbqp42ZB2iwrfr7O/abc/query /data0/lsn1/lisn/VCC/UniPert/mmseqs_storage/databases/ref /data0/lsn1/lisn/VCC/UniPert/mmseqs_storage/workdir/tmp_z5yAKxZziUbqp42ZB2iwrfr7O/abc/result /data0/lsn1/lisn/VCC/UniPert/mmseqs_storage/results/refx6x2taBxQGqInyqk24hAWwh8w.query_results.m8\n",
      "[04:00:00 +08:00] [mmseqs] [---I---] [thread 2864885] Time for merging to refx6x2taBxQGqInyqk24hAWwh8w.query_results.m8: 0h 0m 0s 0ms\n",
      "[04:00:00 +08:00] [mmseqs] [---I---] [thread 2864885] Time for processing: 0h 0m 0s 7ms\n",
      "[04:00:00 +08:00] [mmseqs] [---I---] [thread 2864885] Time for processing: 0h 0m 2s 69ms\n",
      "✅ MMseqs2 results saved to /data0/lsn1/lisn/VCC/UniPert/data/custom_target_seq_similarity.csv\n"
     ]
    },
    {
     "name": "stderr",
     "output_type": "stream",
     "text": [
      "100%|██████████| 2/2 [00:00<00:00, 33.46it/s]"
     ]
    },
    {
     "name": "stdout",
     "output_type": "stream",
     "text": [
      "✅ ESM2 embeddings with 4 querys generated.\n"
     ]
    },
    {
     "name": "stderr",
     "output_type": "stream",
     "text": [
      "\n"
     ]
    },
    {
     "name": "stdout",
     "output_type": "stream",
     "text": [
      "✅ 10 encoded succesfully, 0 failed.\n"
     ]
    }
   ],
   "source": [
    "out_embs, invalid_inputs = unipert.enc_gene_ptbgs_from_gene_names(gene_names=gn_list)"
   ]
  },
  {
   "cell_type": "code",
   "execution_count": 7,
   "metadata": {},
   "outputs": [
    {
     "data": {
      "text/plain": [
       "(dict_keys(['ETV7', 'IRF7', 'IFNGR2', 'IFNGR1', 'STAT2', 'ATF2', 'CAV1', 'IRF1', 'PDL1', 'MARCH8']),\n",
       " [])"
      ]
     },
     "execution_count": 7,
     "metadata": {},
     "output_type": "execute_result"
    }
   ],
   "source": [
    "out_embs.keys(), invalid_inputs"
   ]
  },
  {
   "cell_type": "code",
   "execution_count": 8,
   "metadata": {},
   "outputs": [
    {
     "data": {
      "text/plain": [
       "(10, 256)"
      ]
     },
     "execution_count": 8,
     "metadata": {},
     "output_type": "execute_result"
    }
   ],
   "source": [
    "import numpy as np\n",
    "\n",
    "combined_embs = np.concatenate([emb.reshape(1, -1) for emb in out_embs.values()], axis=0)\n",
    "combined_embs.shape"
   ]
  },
  {
   "cell_type": "markdown",
   "metadata": {},
   "source": [
    "## Save embedddings"
   ]
  },
  {
   "cell_type": "code",
   "execution_count": 8,
   "metadata": {},
   "outputs": [],
   "source": [
    "import pickle\n",
    "\n",
    "with open('../demo_data/embeddings_output.pkl', 'wb') as f:\n",
    "    pickle.dump(out_embs, f) \n"
   ]
  }
 ],
 "metadata": {
  "kernelspec": {
   "display_name": "unipert",
   "language": "python",
   "name": "python3"
  },
  "language_info": {
   "codemirror_mode": {
    "name": "ipython",
    "version": 3
   },
   "file_extension": ".py",
   "mimetype": "text/x-python",
   "name": "python",
   "nbconvert_exporter": "python",
   "pygments_lexer": "ipython3",
   "version": "3.9.23"
  }
 },
 "nbformat": 4,
 "nbformat_minor": 2
}

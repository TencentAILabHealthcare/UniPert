{
 "cells": [
  {
   "cell_type": "markdown",
   "metadata": {},
   "source": [
    "## Tutorial: Encode Genetic Perturbagens (Genes/Proteins) with UniPert\n",
    "\n",
    "\n",
    "In this tutorial, we will introduce `2` ways for obtaining `genetic perturbagen embeddings` using `UniPert`:\n",
    "\n",
    "\n",
    "1. **Generating from a FASTA File**: By providing a `FASTA file` containing `amino acid sequences`, we can directly generate UniProt embeddings of the entries in the FASTA file. This method is suitable for cases where users already downloaded the sequence information of query perturbagens and is `faster` since it does not require sequence retrieval.\n",
    "\n",
    "2. **Generating from a Gene Name List**: If you have a list of `gene names`, we can generate the embeddings by querying the corresponding amino acid sequences through the `UniProt API`. This method is useful when you have gene names but not the direct sequence data, but it requires `internet access` and is `slower` due to the need for sequence retrieval.\n",
    "\n",
    "Please follow the steps and choose the appropriate method based on your needs:\n",
    "\n",
    "1. [Prepare UniPert model](#prepare-unipert-model)\n",
    "2. [Generate perturbagen embeddings](#generate-perturbagen-embeddings)\n",
    "   \n",
    "   * [From FASTA File](#from-fasta-file)\n",
    "   * [From Gene Name List](#from-gene-name-list)\n",
    "  \n",
    "3. [Save embeddings](#save-embedddings)\n"
   ]
  },
  {
   "cell_type": "markdown",
   "metadata": {},
   "source": [
    "## Prepare UniPert model"
   ]
  },
  {
   "cell_type": "code",
   "execution_count": 4,
   "metadata": {},
   "outputs": [
    {
     "name": "stdout",
     "output_type": "stream",
     "text": [
      "💡 CUDA is available. Using CUDA.\n",
      "💡 \u001b[1;93mConstructing UniPert model...\u001b[0m\n",
      "✅ ESM2 model loaded.\n",
      "✅ Reference ESM2 embedding file loaded.\n",
      "✅ ESM2 embedder created.\n",
      "✅ ECFP4 embedder created.\n",
      "✅ UniPert model constructed.\n",
      "✅ Pretrained model file loaded.\n",
      "✅ Reference target graph prepared.\n",
      "✅ \u001b[1;92mModel loaded and initialized.\u001b[0m\n"
     ]
    }
   ],
   "source": [
    "import sys\n",
    "sys.path.append('../')\n",
    "from unipert import UniPert\n",
    "\n",
    "unipert = UniPert()"
   ]
  },
  {
   "cell_type": "markdown",
   "metadata": {},
   "source": [
    "## Generate perturbagen embeddings"
   ]
  },
  {
   "cell_type": "markdown",
   "metadata": {},
   "source": [
    "### From FASTA File"
   ]
  },
  {
   "cell_type": "markdown",
   "metadata": {},
   "source": [
    "#### Generate UniPert Embeddings for FASTA file\n",
    "\n",
    "Example FASTA file downloaded from the UniProt website.\n"
   ]
  },
  {
   "cell_type": "code",
   "execution_count": 5,
   "metadata": {},
   "outputs": [
    {
     "name": "stdout",
     "output_type": "stream",
     "text": [
      "💡 Constructing reference-custom target graph from ../demo_data/UniProt_target_sequence.fasta...\n",
      "💡 Preparing MMseqs and creating reference database...\n",
      "[01:57:09 +08:00] [mmseqs] [---I---] [thread 1558178] Converting sequences\n",
      "✅ MMseqs reference database created.\n",
      "[01:57:09 +08:00] [mmseqs] [---I---] [thread 1558178] \n",
      "[01:57:09 +08:00] [mmseqs] [---I---] [thread 1558178] Time for merging to ref_h: 0h 0m 0s 0ms\n",
      "[01:57:09 +08:00] [mmseqs] [---I---] [thread 1558178] Time for merging to ref: 0h 0m 0s 0ms\n",
      "[01:57:09 +08:00] [mmseqs] [---I---] [thread 1558178] Database type: Aminoacid\n",
      "[01:57:09 +08:00] [mmseqs] [---I---] [thread 1558178] Time for processing: 0h 0m 0s 86ms\n",
      "💡 Calculating similarity between ../demo_data/UniProt_target_sequence.fasta and reference fasta file...\n",
      "[01:57:09 +08:00] [mmseqs] [---I---] [thread 1558178] Temporary path /data0/lsn1/lisn/VCC/UniPert/mmseqs_storage/workdir/tmp_Ha4DAqccW1NyPdYraKfTbg8Xy does not exist or is not a directory. It will be created.\n",
      "[01:57:09 +08:00] [mmseqs] [---I---] [thread 1558178] Created temporary directory /data0/lsn1/lisn/VCC/UniPert/mmseqs_storage/workdir/tmp_Ha4DAqccW1NyPdYraKfTbg8Xy\n",
      "[01:57:09 +08:00] [mmseqs] [---I---] [thread 1558178] Converting sequences\n",
      "[01:57:09 +08:00] [mmseqs] [---I---] [thread 1558178] \n",
      "[01:57:09 +08:00] [mmseqs] [---I---] [thread 1558178] Time for merging to query_h: 0h 0m 0s 0ms\n",
      "[01:57:09 +08:00] [mmseqs] [---I---] [thread 1558178] Time for merging to query: 0h 0m 0s 0ms\n",
      "[01:57:09 +08:00] [mmseqs] [---I---] [thread 1558178] Database type: Aminoacid\n",
      "[01:57:09 +08:00] [mmseqs] [---I---] [thread 1558178] Time for processing: 0h 0m 0s 0ms\n",
      "[01:57:09 +08:00] [mmseqs] [---I---] [thread 1558178] Call search (subcall): search\n",
      "[01:57:09 +08:00] [mmseqs] [---I---] [thread 1558178] Search: /data0/lsn1/lisn/VCC/UniPert/mmseqs_storage/workdir/tmp_Ha4DAqccW1NyPdYraKfTbg8Xy/abc/query /data0/lsn1/lisn/VCC/UniPert/mmseqs_storage/databases/ref\n",
      "[01:57:09 +08:00] [mmseqs] [---I---] [thread 1558178] step_search L\n",
      "[01:57:09 +08:00] [mmseqs] [---I---] [thread 1558178] step_search K_1\n",
      "[01:57:09 +08:00] [mmseqs] [---I---] [thread 1558178] step_search K_2: prefilter /data0/lsn1/lisn/VCC/UniPert/mmseqs_storage/workdir/tmp_Ha4DAqccW1NyPdYraKfTbg8Xy/abc/query /data0/lsn1/lisn/VCC/UniPert/mmseqs_storage/databases/ref /data0/lsn1/lisn/VCC/UniPert/mmseqs_storage/workdir/tmp_Ha4DAqccW1NyPdYraKfTbg8Xy/search/pref_0\n",
      "[01:57:09 +08:00] [mmseqs] [---I---] [thread 1558178] Query database size: 2, type: Aminoacid\n",
      "[01:57:09 +08:00] [mmseqs] [---I---] [thread 1558178] Estimated memory consumption: 1G\n",
      "[01:57:09 +08:00] [mmseqs] [---I---] [thread 1558178] Target database size: 19187, type: Aminoacid\n",
      "[01:57:09 +08:00] [mmseqs] [---I---] [thread 1558178] Index table k-mer threshold: 112 at k-mer size 6\n",
      "[01:57:09 +08:00] [mmseqs] [---I---] [thread 1558178] Index table: counting k-mers\n",
      "[01:57:10 +08:00] [mmseqs] [---I---] [thread 1558178] Index table: Masked residues: 560658\n",
      "[01:57:10 +08:00] [mmseqs] [---I---] [thread 1558178] Index table: fill\n",
      "[01:57:11 +08:00] [mmseqs] [---I---] [thread 1558178] Generated index with 10149540 entries (size 546 MB)\n",
      "[01:57:11 +08:00] [mmseqs] [---I---] [thread 1558178] Time for index table init: 0h 0m 1s 516ms\n",
      "[01:57:11 +08:00] [mmseqs] [---I---] [thread 1558178] Process prefiltering step 1 of 1\n",
      "[01:57:11 +08:00] [mmseqs] [---I---] [thread 1558178] k-mer similarity threshold: 112\n",
      "[01:57:11 +08:00] [mmseqs] [---I---] [thread 1558178] Starting prefiltering scores calculation (step 1 of 1)\n",
      "[01:57:11 +08:00] [mmseqs] [---I---] [thread 1558178] Query db start 1 to 2\n",
      "[01:57:11 +08:00] [mmseqs] [---I---] [thread 1558178] Target db start 1 to 19187\n",
      "[01:57:11 +08:00] [mmseqs] [---I---] [thread 1558178] 373.4051250148122 k-mers per position\n",
      "[01:57:11 +08:00] [mmseqs] [---I---] [thread 1558178] 12207 DB matches per sequence\n",
      "[01:57:11 +08:00] [mmseqs] [---I---] [thread 1558178] 0 overflows\n",
      "[01:57:11 +08:00] [mmseqs] [---I---] [thread 1558178] 0 queries produce too many hits (truncated result)\n",
      "[01:57:11 +08:00] [mmseqs] [---I---] [thread 1558178] 110 sequences passed prefiltering per query sequence\n",
      "[01:57:11 +08:00] [mmseqs] [---I---] [thread 1558178] 114 median result list length\n",
      "[01:57:11 +08:00] [mmseqs] [---I---] [thread 1558178] 0 sequences with 0 size result lists\n",
      "[01:57:11 +08:00] [mmseqs] [---I---] [thread 1558178] Time for merging to pref_0: 0h 0m 0s 0ms\n",
      "[01:57:11 +08:00] [mmseqs] [---I---] [thread 1558178] Time for processing: 0h 0m 1s 967ms\n",
      "[01:57:11 +08:00] [mmseqs] [---I---] [thread 1558178] step_search K_3\n",
      "[01:57:11 +08:00] [mmseqs] [---I---] [thread 1558178] step_search K_4\n",
      "[01:57:11 +08:00] [mmseqs] [---I---] [thread 1558178] step_search K_5\n",
      "[01:57:11 +08:00] [mmseqs] [---I---] [thread 1558178] Compute score, coverage and sequence identity\n",
      "[01:57:11 +08:00] [mmseqs] [---I---] [thread 1558178] Query database size: 2 type: Aminoacid. Target database size: 19187 type: Aminoacid\n",
      "[01:57:11 +08:00] [mmseqs] [---I---] [thread 1558178] Ca✅ MMseqs2 results saved to /data0/lsn1/lisn/VCC/UniPert/data/custom_target_seq_similarity.csv\n",
      "lculation of alignments\n",
      "[01:57:11 +08:00] [mmseqs] [---I---] [thread 1558178] Time for merging to result: 0h 0m 0s 0ms\n",
      "[01:57:11 +08:00] [mmseqs] [---I---] [thread 1558178] 220 alignments calculated\n",
      "[01:57:11 +08:00] [mmseqs] [---I---] [thread 1558178] 22 sequence pairs passed the thresholds\n",
      "[01:57:11 +08:00] [mmseqs] [---I---] [thread 1558178]  (0.1 of overall calculated)\n",
      "[01:57:11 +08:00] [mmseqs] [---I---] [thread 1558178] \n",
      "[01:57:11 +08:00] [mmseqs] [---I---] [thread 1558178] 11 hits per query sequence\n",
      "[01:57:11 +08:00] [mmseqs] [---I---] [thread 1558178] Time for processing: 0h 0m 0s 124ms\n",
      "[01:57:11 +08:00] [mmseqs] [---I---] [thread 1558178] step_search K_6\n",
      "[01:57:11 +08:00] [mmseqs] [---I---] [thread 1558178] step_search K_7\n",
      "[01:57:11 +08:00] [mmseqs] [---I---] [thread 1558178] step_search K_12\n",
      "[01:57:11 +08:00] [mmseqs] [---I---] [thread 1558178] step_search K_17\n",
      "[01:57:11 +08:00] [mmseqs] [---I---] [thread 1558178] step_search K_18\n",
      "[01:57:11 +08:00] [mmseqs] [---I---] [thread 1558178] step_search K_19\n",
      "[01:57:11 +08:00] [mmseqs] [---I---] [thread 1558178] Time for processing: 0h 0m 2s 92ms\n",
      "[01:57:11 +08:00] [mmseqs] [---I---] [thread 1558178] Call search terminted (subcall): search\n",
      "[01:57:11 +08:00] [mmseqs] [---I---] [thread 1558178] Call convertalis\n",
      "[01:57:11 +08:00] [mmseqs] [---I---] [thread 1558178] convertalis /data0/lsn1/lisn/VCC/UniPert/mmseqs_storage/workdir/tmp_Ha4DAqccW1NyPdYraKfTbg8Xy/abc/query /data0/lsn1/lisn/VCC/UniPert/mmseqs_storage/databases/ref /data0/lsn1/lisn/VCC/UniPert/mmseqs_storage/workdir/tmp_Ha4DAqccW1NyPdYraKfTbg8Xy/abc/result /data0/lsn1/lisn/VCC/UniPert/mmseqs_storage/results/ref9TbkwOPiqeuGWExBh9gfXVqsd.query_results.m8\n",
      "[01:57:11 +08:00] [mmseqs] [---I---] [thread 1558178] Time for merging to ref9TbkwOPiqeuGWExBh9gfXVqsd.query_results.m8: 0h 0m 0s 0ms\n",
      "[01:57:11 +08:00] [mmseqs] [---I---] [thread 1558178] Time for processing: 0h 0m 0s 7ms\n",
      "[01:57:11 +08:00] [mmseqs] [---I---] [thread 1558178] Time for processing: 0h 0m 2s 100ms\n"
     ]
    },
    {
     "name": "stderr",
     "output_type": "stream",
     "text": [
      "100%|██████████| 2/2 [00:00<00:00,  4.01it/s]"
     ]
    },
    {
     "name": "stdout",
     "output_type": "stream",
     "text": [
      "✅ ESM2 embeddings with 4 querys generated.\n"
     ]
    },
    {
     "name": "stderr",
     "output_type": "stream",
     "text": [
      "\n"
     ]
    }
   ],
   "source": [
    "out_embs = unipert.enc_gene_ptbgs_from_fasta(\n",
    "    custom_seq_fasta='../demo_data/UniProt_target_sequence.fasta', \n",
    "    save=False\n",
    "    )"
   ]
  },
  {
   "cell_type": "code",
   "execution_count": 6,
   "metadata": {},
   "outputs": [
    {
     "data": {
      "text/plain": [
       "dict_keys(['Q9NZQ7', 'Q5T0T0'])"
      ]
     },
     "execution_count": 6,
     "metadata": {},
     "output_type": "execute_result"
    }
   ],
   "source": [
    "out_embs.keys()"
   ]
  },
  {
   "cell_type": "markdown",
   "metadata": {},
   "source": [
    "### From Gene Name List"
   ]
  },
  {
   "cell_type": "markdown",
   "metadata": {},
   "source": [
    "#### Generate UniPert embeddings for gene name list\n",
    "\n",
    "UniPert will retrieve corrosponding canonical amino acid sequences via UniProt website API and generate the embeddings."
   ]
  },
  {
   "cell_type": "code",
   "execution_count": 7,
   "metadata": {},
   "outputs": [],
   "source": [
    "gn_list = ['ETV7', 'IFNGR1', 'IRF7', 'PDL1', 'MARCH8', 'IRF1', 'IFNGR2', 'STAT2', 'ATF2', 'CAV1']"
   ]
  },
  {
   "cell_type": "code",
   "execution_count": 8,
   "metadata": {},
   "outputs": [
    {
     "name": "stdout",
     "output_type": "stream",
     "text": [
      "✅ 19187 reference targets encoded.\n",
      "💡 Encoding 10 genetic perturbagens with UniPert...\n"
     ]
    },
    {
     "name": "stderr",
     "output_type": "stream",
     "text": [
      "100%|██████████| 10/10 [00:02<00:00,  3.95it/s]"
     ]
    },
    {
     "name": "stdout",
     "output_type": "stream",
     "text": [
      "💡 Constructing reference-custom target graph from ../demo_data/UniProt_target_sequence.fasta...\n",
      "💡 Calculating similarity between ../demo_data/UniProt_target_sequence.fasta and reference fasta file...\n"
     ]
    },
    {
     "name": "stderr",
     "output_type": "stream",
     "text": [
      "\n"
     ]
    },
    {
     "name": "stdout",
     "output_type": "stream",
     "text": [
      "[01:57:26 +08:00] [mmseqs] [---I---] [thread 1558178] Temporary path /data0/lsn1/lisn/VCC/UniPert/mmseqs_storage/workdir/tmp_L7H9uSFVJDkR4PAAmiDU3wMt6 does not exist or is not a directory. It will be created.\n",
      "[01:57:26 +08:00] [mmseqs] [---I---] [thread 1558178] Created temporary directory /data0/lsn1/lisn/VCC/UniPert/mmseqs_storage/workdir/tmp_L7H9uSFVJDkR4PAAmiDU3wMt6\n",
      "[01:57:26 +08:00] [mmseqs] [---I---] [thread 1558178] Converting sequences\n",
      "[01:57:26 +08:00] [mmseqs] [---I---] [thread 1558178] \n",
      "[01:57:26 +08:00] [mmseqs] [---I---] [thread 1558178] Time for merging to query_h: 0h 0m 0s 0ms\n",
      "[01:57:26 +08:00] [mmseqs] [---I---] [thread 1558178] Time for merging to query: 0h 0m 0s 0ms\n",
      "[01:57:26 +08:00] [mmseqs] [---I---] [thread 1558178] Database type: Aminoacid\n",
      "[01:57:26 +08:00] [mmseqs] [---I---] [thread 1558178] Time for processing: 0h 0m 0s 0ms\n",
      "[01:57:26 +08:00] [mmseqs] [---I---] [thread 1558178] Call search (subcall): search\n",
      "[01:57:26 +08:00] [mmseqs] [---I---] [thread 1558178] Search: /data0/lsn1/lisn/VCC/UniPert/mmseqs_storage/workdir/tmp_L7H9uSFVJDkR4PAAmiDU3wMt6/abc/query /data0/lsn1/lisn/VCC/UniPert/mmseqs_storage/databases/ref\n",
      "[01:57:26 +08:00] [mmseqs] [---I---] [thread 1558178] step_search L\n",
      "[01:57:26 +08:00] [mmseqs] [---I---] [thread 1558178] step_search K_1\n",
      "[01:57:26 +08:00] [mmseqs] [---I---] [thread 1558178] step_search K_2: prefilter /data0/lsn1/lisn/VCC/UniPert/mmseqs_storage/workdir/tmp_L7H9uSFVJDkR4PAAmiDU3wMt6/abc/query /data0/lsn1/lisn/VCC/UniPert/mmseqs_storage/databases/ref /data0/lsn1/lisn/VCC/UniPert/mmseqs_storage/workdir/tmp_L7H9uSFVJDkR4PAAmiDU3wMt6/search/pref_0\n",
      "[01:57:26 +08:00] [mmseqs] [---I---] [thread 1558178] Query database size: 2, type: Aminoacid\n",
      "[01:57:26 +08:00] [mmseqs] [---I---] [thread 1558178] Estimated memory consumption: 1G\n",
      "[01:57:26 +08:00] [mmseqs] [---I---] [thread 1558178] Target database size: 19187, type: Aminoacid\n",
      "[01:57:26 +08:00] [mmseqs] [---I---] [thread 1558178] Index table k-mer threshold: 112 at k-mer size 6\n",
      "[01:57:26 +08:00] [mmseqs] [---I---] [thread 1558178] Index table: counting k-mers\n",
      "[01:57:27 +08:00] [mmseqs] [---I---] [thread 1558178] Index table: Masked residues: 560658\n",
      "[01:57:27 +08:00] [mmseqs] [---I---] [thread 1558178] Index table: fill\n",
      "[01:57:28 +08:00] [mmseqs] [---I---] [thread 1558178] Generated index with 10149540 entries (size 546 MB)\n",
      "[01:57:28 +08:00] [mmseqs] [---I---] [thread 1558178] Time for index table init: 0h 0m 1s 673ms\n",
      "[01:57:28 +08:00] [mmseqs] [---I---] [thread 1558178] Process prefiltering step 1 of 1\n",
      "[01:57:28 +08:00] [mmseqs] [---I---] [thread 1558178] k-mer similarity threshold: 112\n",
      "[01:57:28 +08:00] [mmseqs] [---I---] [thread 1558178] Starting prefiltering scores calculation (step 1 of 1)\n",
      "[01:57:28 +08:00] [mmseqs] [---I---] [thread 1558178] Query db start 1 to 2\n",
      "[01:57:28 +08:00] [mmseqs] [---I---] [thread 1558178] Target db start 1 to 19187\n",
      "[01:57:28 +08:00] [mmseqs] [---I---] [thread 1558178] 373.4051250148122 k-mers per position\n",
      "[01:57:28 +08:00] [mmseqs] [---I---] [thread 1558178] 12207 DB matches per sequence\n",
      "[01:57:28 +08:00] [mmseqs] [---I---] [thread 1558178] 0 overflows\n",
      "[01:57:28 +08:00] [mmseqs] [---I---] [thread 1558178] 0 queries produce too many hits (truncated result)\n",
      "[01:57:28 +08:00] [mmseqs] [---I---] [thread 1558178] 110 sequences passed prefiltering per query sequence\n",
      "[01:57:28 +08:00] [mmseqs] [---I---] [thread 1558178] 114 median result list length\n",
      "[01:57:28 +08:00] [mmseqs] [---I---] [thread 1558178] 0 sequences with 0 size result lists\n",
      "[01:57:28 +08:00] [mmseqs] [---I---] [thread 1558178] Time for merging to pref_0: 0h 0m 0s 0ms\n",
      "[01:57:28 +08:00] [mmseqs] [---I---] [thread 1558178] Time for processing: 0h 0m 2s 124ms\n",
      "[01:57:28 +08:00] [mmseqs] [---I---] [thread 1558178] step_search K_3\n",
      "[01:57:28 +08:00] [mmseqs] [---I---] [thread 1558178] step_search K_4\n",
      "[01:57:28 +08:00] [mmseqs] [---I---] [thread 1558178] step_search K_5\n",
      "[01:57:28 +08:00] [mmseqs] [---I---] [thread 1558178] Compute score, coverage and sequence identity\n",
      "[01:57:28 +08:00] [mmseqs] [---I---] [thread 1558178] Query database size: 2 type: Aminoacid. Target database size: 19187 type: Aminoacid\n",
      "[01:57:28 +08:00] [mmseqs] [---I---] [thread 1558178] Calculation of alignments\n",
      "[01:57:29 +08:00] [mmseqs] [---I---] [thread 1558178] Time for merging to result: 0h 0m 0s 0ms\n",
      "[01:57:29 +08:00] [mmseqs] [---I---] [thread 1558178] 220 alignments calculated\n",
      "[01:57:29 +08:00] [mmseqs] [---I---] [thread 1558178] 22 sequence pairs passed the thresholds\n",
      "[01:57:29 +08:00] [mmseqs] [---I---] [thread 1558178]  (0.1 of overall calculated)\n",
      "[01:57:29 +08:00] [mmseqs] [---I---] [thread 1558178] \n",
      "[01:57:29 +08:00] [mmseqs] [---I---] [thread 1558178] 11 hits per query sequence\n",
      "[01:57:29 +08:00] [mmseqs] [---I---] [thread 1558178] Time for processing: 0h 0m 0s 127ms\n",
      "[01:57:29 +08:00] [mmseqs] [---I---] [thread 1558178] step_search K_6\n",
      "[01:57:29 +08:00] [mmseqs] [---I---] [thread 1558178] step_search K_7\n",
      "[01:57:29 +08:00] [mmseqs] [---I---] [thread 1558178] step_search K_12\n",
      "[01:57:29 +08:00] [mmseqs] [---I---] [thread 1558178] step_search K_17\n",
      "[01:57:29 +08:00] [mmseqs] [---I---] [thread 1558178] step_search K_18\n",
      "[01:57:29 +08:00] [mmseqs] [---I---] [thread 1558178] step_search K_19\n",
      "[01:57:29 +08:00] [mmseqs] [---I---] [thread 1558178] Time for processing: 0h 0m 2s 252ms\n",
      "[01:57:29 +08:00] [mmseqs] [---I---] [thread 1558178] Call search terminted (subcall): search\n",
      "[01:57:29 +08:00] [mmseqs] [---I---] [thread 1558178] Call convertalis\n",
      "[01:57:29 +08:00] [mmseqs] [---I---] [thread 1558178] convertalis /data0/lsn1/lisn/VCC/UniPert/mmseqs_storage/workdir/tmp_L7H9uSFVJDkR4PAAmiDU3wMt6/abc/query /data0/lsn1/lisn/VCC/UniPert/mmseqs_storage/databases/ref /data0/lsn1/lisn/VCC/UniPert/mmseqs_storage/workdir/tmp_L7H9uSFVJDkR4PAAmiDU3wMt6/abc/result /data0/lsn1/lisn/VCC/UniPert/mmseqs_storage/results/refXuNmb8nsFvHgRqDPXN2mexKVI.query_results.m8\n",
      "[01:57:29 +08:00] [mmseqs] [---I---] [thread 1558178] Time for merging to refXuNmb8nsFvHgRqDPXN2mexKVI.query_results.m8: 0h 0m 0s 0ms\n",
      "[01:57:29 +08:00] [mmseqs] [---I---] [thread 1558178] Time for processing: 0h 0m 0s 7ms\n",
      "[01:57:29 +08:00] [mmseqs] [---I---] [thread 1558178] Time for processing: 0h 0m 2s 260ms\n",
      "✅ MMseqs2 results saved to /data0/lsn1/lisn/VCC/UniPert/data/custom_target_seq_similarity.csv\n"
     ]
    },
    {
     "name": "stderr",
     "output_type": "stream",
     "text": [
      "100%|██████████| 2/2 [00:00<00:00, 32.34it/s]"
     ]
    },
    {
     "name": "stdout",
     "output_type": "stream",
     "text": [
      "✅ ESM2 embeddings with 4 querys generated.\n"
     ]
    },
    {
     "name": "stderr",
     "output_type": "stream",
     "text": [
      "\n"
     ]
    },
    {
     "name": "stdout",
     "output_type": "stream",
     "text": [
      "✅ 10 encoded succesfully, 0 failed.\n"
     ]
    }
   ],
   "source": [
    "out_embs, invalid_inputs = unipert.enc_gene_ptbgs_from_gene_names(gene_names=gn_list)"
   ]
  },
  {
   "cell_type": "code",
   "execution_count": 9,
   "metadata": {},
   "outputs": [
    {
     "data": {
      "text/plain": [
       "(dict_keys(['IFNGR1', 'STAT2', 'IRF7', 'ETV7', 'ATF2', 'CAV1', 'IFNGR2', 'IRF1', 'PDL1', 'MARCH8']),\n",
       " [])"
      ]
     },
     "execution_count": 9,
     "metadata": {},
     "output_type": "execute_result"
    }
   ],
   "source": [
    "out_embs.keys(), invalid_inputs"
   ]
  },
  {
   "cell_type": "code",
   "execution_count": 10,
   "metadata": {},
   "outputs": [
    {
     "data": {
      "text/plain": [
       "(10, 256)"
      ]
     },
     "execution_count": 10,
     "metadata": {},
     "output_type": "execute_result"
    }
   ],
   "source": [
    "import numpy as np\n",
    "\n",
    "combined_embs = np.concatenate([emb.reshape(1, -1) for emb in out_embs.values()], axis=0)\n",
    "combined_embs.shape"
   ]
  },
  {
   "cell_type": "markdown",
   "metadata": {},
   "source": [
    "## Save embedddings"
   ]
  },
  {
   "cell_type": "code",
   "execution_count": 8,
   "metadata": {},
   "outputs": [],
   "source": [
    "import pickle\n",
    "\n",
    "with open('../demo_data/embeddings_output.pkl', 'wb') as f:\n",
    "    pickle.dump(out_embs, f) \n"
   ]
  }
 ],
 "metadata": {
  "kernelspec": {
   "display_name": "unipert",
   "language": "python",
   "name": "python3"
  },
  "language_info": {
   "codemirror_mode": {
    "name": "ipython",
    "version": 3
   },
   "file_extension": ".py",
   "mimetype": "text/x-python",
   "name": "python",
   "nbconvert_exporter": "python",
   "pygments_lexer": "ipython3",
   "version": "3.9.23"
  }
 },
 "nbformat": 4,
 "nbformat_minor": 2
}

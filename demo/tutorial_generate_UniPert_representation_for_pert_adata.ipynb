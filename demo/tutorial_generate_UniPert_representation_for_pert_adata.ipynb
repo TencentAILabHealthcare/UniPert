{
 "cells": [
  {
   "cell_type": "markdown",
   "metadata": {},
   "source": [
    "## Generating UniPert Representations for Perturb Adata\n",
    "\n",
    "In this tutorial, we will introduce how to generate perturbagen embeddings using UniPert for a given perturbation `AnnData` file:\n",
    "\n",
    "* The `UniPert representations` will be formatted as a `dict` and stored in the AnnData object under the key `adata.uns['UniPert_reps']`.\n",
    "  \n",
    "* The `invalid or unretrieved perturbagens` will be formatted as a `list` and stored in the AnnData object under the key `adata.uns['invalid_ptbgs']`.\n",
    "  \n",
    "We use 2 example perturbation adata from [scPerturb database](https://www.sanderlab.org/scPerturb/datavzrd/scPerturb_vzrd_v2/dataset_info/index_1.html) to show the generating process:\n",
    "\n",
    "  1. [Example 1: Genetic Perturbation Adata](#Genetic-Perturbation-Adata)\n",
    "\n",
    "  2. [Example 2: Chemical Perturbation Adata](#Chemical-Perturbation-Adata)\n",
    "\n",
    "\n"
   ]
  },
  {
   "cell_type": "markdown",
   "metadata": {},
   "source": [
    "## Prepare example pert adata"
   ]
  },
  {
   "cell_type": "markdown",
   "metadata": {},
   "source": [
    "Define the download function to get perturbation adata file from [scPerturb database](https://www.sanderlab.org/scPerturb/datavzrd/scPerturb_vzrd_v2/dataset_info/index_1.html)."
   ]
  },
  {
   "cell_type": "code",
   "execution_count": 1,
   "metadata": {},
   "outputs": [],
   "source": [
    "import os\n",
    "import requests\n",
    "from lamin_utils import logger\n",
    "\n",
    "def download_file(url: str, folder_path: str):\n",
    "    \"\"\"\n",
    "    Download file from url to folder_path\n",
    "    \"\"\"\n",
    "    if not os.path.exists(folder_path):\n",
    "        os.makedirs(folder_path)\n",
    "    file_name = url.split('/')[-1]\n",
    "    file_path = os.path.join(folder_path, file_name)\n",
    "    # check if file already exists\n",
    "    if os.path.exists(file_path):\n",
    "        logger.info(f\"{file_name} already exists.\")\n",
    "        return file_path\n",
    "    try:\n",
    "        response = requests.get(url, stream=True)\n",
    "        response.raise_for_status()  \n",
    "        with open(file_path, 'wb') as f:\n",
    "            for chunk in response.iter_content(chunk_size=8192):\n",
    "                f.write(chunk)\n",
    "        logger.download(f\"{file_name} download.\")\n",
    "        return file_path\n",
    "    except requests.exceptions.RequestException as e:\n",
    "        logger.error(f\"Download failed: {e}\")\n",
    "        return None"
   ]
  },
  {
   "cell_type": "markdown",
   "metadata": {},
   "source": [
    "## Prepare UniPert model"
   ]
  },
  {
   "cell_type": "code",
   "execution_count": 3,
   "metadata": {},
   "outputs": [
    {
     "name": "stdout",
     "output_type": "stream",
     "text": [
      "💡 CUDA is available. Using CUDA.\n",
      "💡 \u001b[1;93mConstructing UniPert model...\u001b[0m\n",
      "✅ ESM2 model loaded.\n",
      "✅ Reference ESM2 embedding file loaded.\n",
      "✅ ESM2 embedder created.\n",
      "✅ ECFP4 embedder created.\n",
      "✅ UniPert model constructed.\n",
      "✅ Pretrained model file loaded.\n",
      "✅ Reference target graph prepared.\n",
      "✅ \u001b[1;92mModel loaded and initialized.\u001b[0m\n"
     ]
    }
   ],
   "source": [
    "import sys\n",
    "sys.path.append('../')\n",
    "from unipert import UniPert\n",
    "\n",
    "unipert = UniPert()"
   ]
  },
  {
   "cell_type": "markdown",
   "metadata": {},
   "source": [
    "## Examples"
   ]
  },
  {
   "cell_type": "markdown",
   "metadata": {},
   "source": [
    "### Genetic Perturbation Adata"
   ]
  },
  {
   "cell_type": "code",
   "execution_count": 4,
   "metadata": {},
   "outputs": [
    {
     "name": "stdout",
     "output_type": "stream",
     "text": [
      "✅ PapalexiSatija2021_eccite_arrayed_RNA.h5ad download.\n"
     ]
    }
   ],
   "source": [
    "scperturb_url = 'https://zenodo.org/record/10044268/files/PapalexiSatija2021_eccite_arrayed_RNA.h5ad'\n",
    "demo_data_path = '../demo_data/'  \n",
    "file_path = download_file(scperturb_url, demo_data_path)"
   ]
  },
  {
   "cell_type": "code",
   "execution_count": 5,
   "metadata": {},
   "outputs": [
    {
     "data": {
      "text/plain": [
       "AnnData object with n_obs × n_vars = 8984 × 16826 backed at '../demo_data/PapalexiSatija2021_eccite_arrayed_RNA.h5ad'\n",
       "    obs: 'perturbation', 'hto', 'guide_id', 'hto_barcode', 'gdo_barcode', 'tissue_type', 'cell_line', 'cancer', 'disease', 'perturbation_type', 'celltype', 'organism', 'nperts', 'ngenes', 'ncounts', 'percent_mito', 'percent_ribo'\n",
       "    var: 'ensembl_id', 'ncounts', 'ncells'"
      ]
     },
     "execution_count": 5,
     "metadata": {},
     "output_type": "execute_result"
    }
   ],
   "source": [
    "import scanpy as sc\n",
    "adata = sc.read(file_path, 'r')\n",
    "adata"
   ]
  },
  {
   "cell_type": "code",
   "execution_count": 6,
   "metadata": {},
   "outputs": [
    {
     "data": {
      "text/plain": [
       "perturbation\n",
       "control     2009\n",
       "ETV7        1789\n",
       "IRF1         994\n",
       "ATF2         794\n",
       "IRF7         750\n",
       "MARCH8       723\n",
       "IFNGR1       701\n",
       "STAT2        576\n",
       "CAV1         409\n",
       "PDL1         235\n",
       "IFNGR2         4\n",
       "CMTM6          0\n",
       "CD86           0\n",
       "CUL3           0\n",
       "BRD4           0\n",
       "PDCD1LG2       0\n",
       "POU2F2         0\n",
       "NFKBIA         0\n",
       "JAK2           0\n",
       "SPI1           0\n",
       "SMAD4          0\n",
       "STAT3          0\n",
       "STAT1          0\n",
       "STAT5A         0\n",
       "TNFRSF14       0\n",
       "UBE2L6         0\n",
       "eGFP           0\n",
       "Name: count, dtype: int64"
      ]
     },
     "execution_count": 6,
     "metadata": {},
     "output_type": "execute_result"
    }
   ],
   "source": [
    "adata.obs['perturbation'].value_counts()"
   ]
  },
  {
   "cell_type": "code",
   "execution_count": 7,
   "metadata": {},
   "outputs": [
    {
     "name": "stdout",
     "output_type": "stream",
     "text": [
      "💡 Retrieving sequence for genetic perturbagens...\n"
     ]
    },
    {
     "name": "stderr",
     "output_type": "stream",
     "text": [
      "100%|██████████| 10/10 [00:08<00:00,  1.12it/s]"
     ]
    },
    {
     "name": "stdout",
     "output_type": "stream",
     "text": [
      "💡 Constructing reference-custom target graph from /data0/lsn1/lisn/VCC/UniPert/data/custom_target_seq.fasta...\n",
      "💡 Preparing MMseqs and creating reference database...\n",
      "[04:08:00 +08:00] [mmseqs] [---I---] [thread 2865455] Converting sequences\n",
      "✅ MMseqs reference database created.\n",
      "[04:08:01 +08:00] [mmseqs] [---I---] [thread 2865455] \n",
      "[04:08:01 +08:00] [mmseqs] [---I---] [thread 2865455] Time for merging to ref_h: 0h 0m 0s 0ms\n",
      "[04:08:01 +08:00] [mmseqs] [---I---] [thread 2865455] Time for merging to ref: 0h 0m 0s 0ms\n",
      "[04:08:01 +08:00] [mmseqs] [---I---] [thread 2865455] Database type: Aminoacid\n",
      "[04:08:01 +08:00] [mmseqs] [---I---] [thread 2865455] Time for processing: 0h 0m 0s 87ms\n",
      "💡 Calculating similarity between /data0/lsn1/lisn/VCC/UniPert/data/custom_target_seq.fasta and reference fasta file...\n"
     ]
    },
    {
     "name": "stderr",
     "output_type": "stream",
     "text": [
      "\n"
     ]
    },
    {
     "name": "stdout",
     "output_type": "stream",
     "text": [
      "[04:08:01 +08:00] [mmseqs] [---I---] [thread 2865455] Temporary path /data0/lsn1/lisn/VCC/UniPert/mmseqs_storage/workdir/tmp_ygblIkaz1mDOiqncORkH04MYN does not exist or is not a directory. It will be created.\n",
      "[04:08:01 +08:00] [mmseqs] [---I---] [thread 2865455] Created temporary directory /data0/lsn1/lisn/VCC/UniPert/mmseqs_storage/workdir/tmp_ygblIkaz1mDOiqncORkH04MYN\n",
      "[04:08:01 +08:00] [mmseqs] [---I---] [thread 2865455] Converting sequences\n",
      "[04:08:01 +08:00] [mmseqs] [---I---] [thread 2865455] \n",
      "[04:08:01 +08:00] [mmseqs] [---I---] [thread 2865455] Time for merging to query_h: 0h 0m 0s 0ms\n",
      "[04:08:01 +08:00] [mmseqs] [---I---] [thread 2865455] Time for merging to query: 0h 0m 0s 0ms\n",
      "[04:08:01 +08:00] [mmseqs] [---I---] [thread 2865455] Database type: Aminoacid\n",
      "[04:08:01 +08:00] [mmseqs] [---I---] [thread 2865455] Time for processing: 0h 0m 0s 0ms\n",
      "[04:08:01 +08:00] [mmseqs] [---I---] [thread 2865455] Call search (subcall): search\n",
      "[04:08:01 +08:00] [mmseqs] [---I---] [thread 2865455] Search: /data0/lsn1/lisn/VCC/UniPert/mmseqs_storage/workdir/tmp_ygblIkaz1mDOiqncORkH04MYN/abc/query /data0/lsn1/lisn/VCC/UniPert/mmseqs_storage/databases/ref\n",
      "[04:08:01 +08:00] [mmseqs] [---I---] [thread 2865455] step_search L\n",
      "[04:08:01 +08:00] [mmseqs] [---I---] [thread 2865455] step_search K_1\n",
      "[04:08:01 +08:00] [mmseqs] [---I---] [thread 2865455] step_search K_2: prefilter /data0/lsn1/lisn/VCC/UniPert/mmseqs_storage/workdir/tmp_ygblIkaz1mDOiqncORkH04MYN/abc/query /data0/lsn1/lisn/VCC/UniPert/mmseqs_storage/databases/ref /data0/lsn1/lisn/VCC/UniPert/mmseqs_storage/workdir/tmp_ygblIkaz1mDOiqncORkH04MYN/search/pref_0\n",
      "[04:08:01 +08:00] [mmseqs] [---I---] [thread 2865455] Query database size: 10, type: Aminoacid\n",
      "[04:08:01 +08:00] [mmseqs] [---I---] [thread 2865455] Estimated memory consumption: 1G\n",
      "[04:08:01 +08:00] [mmseqs] [---I---] [thread 2865455] Target database size: 19187, type: Aminoacid\n",
      "[04:08:01 +08:00] [mmseqs] [---I---] [thread 2865455] Index table k-mer threshold: 112 at k-mer size 6\n",
      "[04:08:01 +08:00] [mmseqs] [---I---] [thread 2865455] Index table: counting k-mers\n",
      "[04:08:01 +08:00] [mmseqs] [---I---] [thread 2865455] Index table: Masked residues: 560658\n",
      "[04:08:01 +08:00] [mmseqs] [---I---] [thread 2865455] Index table: fill\n",
      "[04:08:02 +08:00] [mmseqs] [---I---] [thread 2865455] Generated index with 10149540 entries (size 546 MB)\n",
      "[04:08:02 +08:00] [mmseqs] [---I---] [thread 2865455] Time for index table init: 0h 0m 1s 547ms\n",
      "[04:08:03 +08:00] [mmseqs] [---I---] [thread 2865455] Process prefiltering step 1 of 1\n",
      "[04:08:03 +08:00] [mmseqs] [---I---] [thread 2865455] k-mer similarity threshold: 112\n",
      "[04:08:03 +08:00] [mmseqs] [---I---] [thread 2865455] Starting prefiltering scores calculation (step 1 of 1)\n",
      "[04:08:03 +08:00] [mmseqs] [---I---] [thread 2865455] Query db start 1 to 10\n",
      "[04:08:03 +08:00] [mmseqs] [---I---] [thread 2865455] Target db start 1 to 19187\n",
      "[04:08:03 +08:00] [mmseqs] [---I---] [thread 2865455] 378.5802776804303 k-mers per position\n",
      "[04:08:03 +08:00] [mmseqs] [---I---] [thread 2865455] 19531 DB matches per sequence\n",
      "[04:08:03 +08:00] [mmseqs] [---I---] [thread 2865455] 0 overflows\n",
      "[04:08:03 +08:00] [mmseqs] [---I---] [thread 2865455] 0 queries produce too many hits (truncated result)\n",
      "[04:08:03 +08:00] [mmseqs] [---I---] [thread 2865455] 167 sequences passed prefiltering per query sequence\n",
      "[04:08:03 +08:00] [mmseqs] [---I---] [thread 2865455] 157 median result list length\n",
      "[04:08:03 +08:00] [mmseqs] [---I---] [thread 2865455] 0 sequences with 0 size result lists\n",
      "[04:08:03 +08:00] [mmseqs] [---I---] [thread 2865455] Time for merging to pref_0: 0h 0m 0s 0ms\n",
      "[04:08:03 +08:00] [mmseqs] [---I---] [thread 2865455] Time for processing: 0h 0m 2s 84ms\n",
      "[04:08:03 +08:00] [mmseqs] [---I---] [thread 2865455] step_search K_3\n",
      "[04:08:03 +08:00] [mmseqs] [---I---] [thread 2865455] step_search K_4\n",
      "[04:08:03 +08:00] [mmseqs] [---I---] [thread 2865455] step_search K_5\n",
      "[04:08:03 +08:00] [mmseqs] [---I---] [thread 2865455] Compute score, coverage and sequence identity\n",
      "[04:08:03 +08:00] [mmseqs] [---I---] [thread 2865455] Query database size: 10 type: Aminoacid. Target database size: 19187 type: Aminoacid\n",
      "[04:08:03 +08:00] [mmseqs] [---I---] [thread 2865455] Calculation of alignments\n",
      "[04:08:04 +08:00] [mmseqs] [---I---] [thread 2865455] Time for merging to result: 0h 0m 0s 0ms\n",
      "[04:08:04 +08:00] [mmseqs] [---I---] [thread 2865455] 1675 alignments calculated\n",
      "[04:08:04 +08:00] [mmseqs] [---I---] [thread 2865455] 92 sequence pairs passed the thresholds\n",
      "[04:08:04 +08:00] [mmseqs] [---I---] [thread 2865455]  (0.054925375 of overall calculated)\n",
      "[04:08:04 +08:00] [mmseqs] [---I---] [thread 2865455] \n",
      "[04:08:04 +08:00] [mmseqs] [---I---] [thread 2865455] 9.2 hits per query sequence\n",
      "[04:08:04 +08:00] [mmseqs] [---I---] [thread 2865455] Time for processing: 0h 0m 1s 330ms\n",
      "[04:08:04 +08:00] [mmseqs] [---I---] [thread 2865455] step_search K_6\n",
      "[04:08:04 +08:00] [mmseqs] [---I---] [thread 2865455] step_search K_7\n",
      "[04:08:04 +08:00] [mmseqs] [---I---] [thread 2865455] step_search K_12\n",
      "[04:08:04 +08:00] [mmseqs] [---I---] [thread 2865455] step_search K_17\n",
      "[04:08:04 +08:00] [mmseqs] [---I---] [thread 2865455] step_search K_18\n",
      "[04:08:04 +08:00] [mmseqs] [---I---] [thread 2865455] step_search K_19\n",
      "[04:08:04 +08:00] [mmseqs] [---I---] [thread 2865455] Time for processing: 0h 0m 3s 415ms\n",
      "[04:08:04 +08:00] [mmseqs] [---I---] [thread 2865455] Call search terminted (subcall): search\n",
      "[04:08:04 +08:00] [mmseqs] [---I---] [thread 2865455] Call convertalis\n",
      "[04:08:04 +08:00] [mmseqs] [---I---] [thread 2865455] convertalis /data0/lsn1/lisn/VCC/UniPert/mmseqs_storage/workdir/tmp_ygblIkaz1mDOiqncORkH04MYN/abc/query /data0/lsn1/lisn/VCC/UniPert/mmseqs_storage/databases/ref /data0/lsn1/lisn/VCC/UniPert/mmseqs_storage/workdir/tmp_ygblIkaz1mDOiqncORkH04MYN/abc/result /data0/lsn1/lisn/VCC/UniPert/mmseqs_storage/results/refnGp0THGOYXIOyVQNxw7Hj4HgV.query_results.m8\n",
      "[04:08:04 +08:00] [mmseqs] [---I---] [thread 2865455] Time for merging to refnGp0THGOYXIOyVQNxw7Hj4HgV.query_results.m8: 0h 0m 0s 0ms\n",
      "[04:08:04 +08:00] [mmseqs] [---I---] [thread 2865455] Time for processing: 0h 0m 0s 8ms\n",
      "[04:08:04 +08:00] [mmseqs] [---I---] [thread 2865455] Time for processing: 0h 0m 3s 424ms\n",
      "✅ MMseqs2 results saved to /data0/lsn1/lisn/VCC/UniPert/data/custom_target_seq_similarity.csv\n"
     ]
    },
    {
     "name": "stderr",
     "output_type": "stream",
     "text": [
      "100%|██████████| 10/10 [00:00<00:00, 12.59it/s]"
     ]
    },
    {
     "name": "stdout",
     "output_type": "stream",
     "text": [
      "✅ ESM2 embeddings with 20 querys generated.\n"
     ]
    },
    {
     "name": "stderr",
     "output_type": "stream",
     "text": [
      "\n"
     ]
    },
    {
     "name": "stdout",
     "output_type": "stream",
     "text": [
      "✅ \u001b[1;92mUniPert representations generated!\u001b[0m\n",
      "💡 10 perturbagens' UniPert representations saved to adata.uns['UniPert_reps']\n"
     ]
    }
   ],
   "source": [
    "unipert.enc_ptbgs_for_pert_adata(\n",
    "    adata=adata,\n",
    "    ptbg_cols=['perturbation'],\n",
    "    ptbg_types=['genetic'],\n",
    "    control_key='control',\n",
    "    return_results=False\n",
    ")"
   ]
  },
  {
   "cell_type": "code",
   "execution_count": 8,
   "metadata": {},
   "outputs": [
    {
     "data": {
      "text/plain": [
       "(dict_keys(['IRF1', 'STAT2', 'IRF7', 'MARCH8', 'ETV7', 'IFNGR2', 'PDL1', 'IFNGR1', 'ATF2', 'CAV1']),\n",
       " [])"
      ]
     },
     "execution_count": 8,
     "metadata": {},
     "output_type": "execute_result"
    }
   ],
   "source": [
    "adata.uns['UniPert_reps'].keys(), adata.uns['invalid_ptbgs']"
   ]
  },
  {
   "cell_type": "markdown",
   "metadata": {},
   "source": [
    "### Chemical Perturbation Adata"
   ]
  },
  {
   "cell_type": "code",
   "execution_count": 3,
   "metadata": {},
   "outputs": [
    {
     "name": "stdout",
     "output_type": "stream",
     "text": [
      "💡 SrivatsanTrapnell2020_sciplex3.h5ad already exists.\n"
     ]
    }
   ],
   "source": [
    "scperturb_url = 'https://zenodo.org/record/10044268/files/SrivatsanTrapnell2020_sciplex3.h5ad'\n",
    "demo_data_path = '../demo_data/'  \n",
    "file_name = download_file(scperturb_url, demo_data_path)"
   ]
  },
  {
   "cell_type": "code",
   "execution_count": 4,
   "metadata": {},
   "outputs": [
    {
     "data": {
      "text/plain": [
       "AnnData object with n_obs × n_vars = 799317 × 110984 backed at '../demo_data/SrivatsanTrapnell2020_sciplex3.h5ad'\n",
       "    obs: 'ncounts', 'well', 'plate', 'cell_line', 'replicate', 'time', 'dose_value', 'pathway_level_1', 'pathway_level_2', 'perturbation', 'target', 'pathway', 'dose_unit', 'celltype', 'disease', 'cancer', 'tissue_type', 'organism', 'perturbation_type', 'ngenes', 'percent_mito', 'percent_ribo', 'nperts', 'chembl-ID'\n",
       "    var: 'ensembl_id', 'ncounts', 'ncells'"
      ]
     },
     "execution_count": 4,
     "metadata": {},
     "output_type": "execute_result"
    }
   ],
   "source": [
    "import scanpy as sc\n",
    "\n",
    "adata = sc.read(file_name, 'r')\n",
    "adata"
   ]
  },
  {
   "cell_type": "code",
   "execution_count": 5,
   "metadata": {},
   "outputs": [
    {
     "data": {
      "text/plain": [
       "perturbation\n",
       "control                              17578\n",
       "Ellagic acid                          6257\n",
       "Divalproex Sodium                     6203\n",
       "Ruxolitinib (INCB018424)              6143\n",
       "MC1568                                6126\n",
       "                                     ...  \n",
       "Alvespimycin (17-DMAG) HCl            2089\n",
       "Patupilone (EPO906, Epothilone B)     1822\n",
       "Flavopiridol HCl                      1729\n",
       "Epothilone A                          1426\n",
       "YM155 (Sepantronium Bromide)          1007\n",
       "Name: count, Length: 189, dtype: int64"
      ]
     },
     "execution_count": 5,
     "metadata": {},
     "output_type": "execute_result"
    }
   ],
   "source": [
    "adata.obs['perturbation'].value_counts()"
   ]
  },
  {
   "cell_type": "code",
   "execution_count": 6,
   "metadata": {},
   "outputs": [
    {
     "name": "stdout",
     "output_type": "stream",
     "text": [
      "✅ chemspider server connected successfully.\n",
      "💡 Retrievaling SMILES for chemical perturbagens...\n"
     ]
    },
    {
     "name": "stderr",
     "output_type": "stream",
     "text": [
      "  2%|▏         | 4/188 [00:12<09:14,  3.01s/it]"
     ]
    },
    {
     "name": "stdout",
     "output_type": "stream",
     "text": [
      "Unable to retrieve SMILES for query compound name: Fedratinib (SAR302503, TG101348)\n"
     ]
    },
    {
     "name": "stderr",
     "output_type": "stream",
     "text": [
      "  3%|▎         | 6/188 [00:17<07:52,  2.59s/it]"
     ]
    },
    {
     "name": "stdout",
     "output_type": "stream",
     "text": [
      "Unable to retrieve SMILES for query compound name: Disulfiram \n"
     ]
    },
    {
     "name": "stderr",
     "output_type": "stream",
     "text": [
      "  5%|▌         | 10/188 [00:27<07:58,  2.69s/it]"
     ]
    },
    {
     "name": "stdout",
     "output_type": "stream",
     "text": [
      "Unable to retrieve SMILES for query compound name: Busulfan \n"
     ]
    },
    {
     "name": "stderr",
     "output_type": "stream",
     "text": [
      "  8%|▊         | 15/188 [00:41<08:37,  2.99s/it]"
     ]
    },
    {
     "name": "stdout",
     "output_type": "stream",
     "text": [
      "Unable to retrieve SMILES for query compound name: INO-1001 (3-Aminobenzamide)\n"
     ]
    },
    {
     "name": "stderr",
     "output_type": "stream",
     "text": [
      " 13%|█▎        | 24/188 [01:07<07:59,  2.92s/it]"
     ]
    },
    {
     "name": "stdout",
     "output_type": "stream",
     "text": [
      "Unable to retrieve SMILES for query compound name: Glesatinib?(MGCD265)\n"
     ]
    },
    {
     "name": "stderr",
     "output_type": "stream",
     "text": [
      " 19%|█▊        | 35/188 [01:37<07:30,  2.94s/it]"
     ]
    },
    {
     "name": "stdout",
     "output_type": "stream",
     "text": [
      "Unable to retrieve SMILES for query compound name: Aminoglutethimide \n"
     ]
    },
    {
     "name": "stderr",
     "output_type": "stream",
     "text": [
      " 26%|██▌       | 48/188 [02:14<06:50,  2.94s/it]"
     ]
    },
    {
     "name": "stdout",
     "output_type": "stream",
     "text": [
      "Unable to retrieve SMILES for query compound name: Prednisone \n"
     ]
    },
    {
     "name": "stderr",
     "output_type": "stream",
     "text": [
      " 28%|██▊       | 53/188 [02:28<06:33,  2.92s/it]"
     ]
    },
    {
     "name": "stdout",
     "output_type": "stream",
     "text": [
      "Unable to retrieve SMILES for query compound name: Cimetidine \n"
     ]
    },
    {
     "name": "stderr",
     "output_type": "stream",
     "text": [
      " 29%|██▉       | 55/188 [02:32<05:44,  2.59s/it]"
     ]
    },
    {
     "name": "stdout",
     "output_type": "stream",
     "text": [
      "Unable to retrieve SMILES for query compound name: ENMD-2076 L-(+)-Tartaric acid \n"
     ]
    },
    {
     "name": "stderr",
     "output_type": "stream",
     "text": [
      " 35%|███▌      | 66/188 [03:03<06:02,  2.97s/it]"
     ]
    },
    {
     "name": "stdout",
     "output_type": "stream",
     "text": [
      "Unable to retrieve SMILES for query compound name: Tazemetostat (EPZ-6438)\n"
     ]
    },
    {
     "name": "stderr",
     "output_type": "stream",
     "text": [
      " 39%|███▉      | 74/188 [03:25<05:33,  2.93s/it]"
     ]
    },
    {
     "name": "stdout",
     "output_type": "stream",
     "text": [
      "Unable to retrieve SMILES for query compound name: Mocetinostat (MGCD0103)\n"
     ]
    },
    {
     "name": "stderr",
     "output_type": "stream",
     "text": [
      " 49%|████▉     | 93/188 [04:23<05:10,  3.27s/it]"
     ]
    },
    {
     "name": "stdout",
     "output_type": "stream",
     "text": [
      "Unable to retrieve SMILES for query compound name: PD173074\n"
     ]
    },
    {
     "name": "stderr",
     "output_type": "stream",
     "text": [
      " 51%|█████     | 96/188 [04:31<04:15,  2.78s/it]"
     ]
    },
    {
     "name": "stdout",
     "output_type": "stream",
     "text": [
      "Unable to retrieve SMILES for query compound name: Valproic acid sodium salt (Sodium valproate)\n"
     ]
    },
    {
     "name": "stderr",
     "output_type": "stream",
     "text": [
      " 53%|█████▎    | 100/188 [04:41<03:57,  2.70s/it]"
     ]
    },
    {
     "name": "stdout",
     "output_type": "stream",
     "text": [
      "Unable to retrieve SMILES for query compound name: Streptozotocin (STZ)\n"
     ]
    },
    {
     "name": "stderr",
     "output_type": "stream",
     "text": [
      " 54%|█████▎    | 101/188 [04:43<03:28,  2.40s/it]"
     ]
    },
    {
     "name": "stdout",
     "output_type": "stream",
     "text": [
      "Unable to retrieve SMILES for query compound name: Luminespib (AUY-922, NVP-AUY922)\n"
     ]
    },
    {
     "name": "stderr",
     "output_type": "stream",
     "text": [
      " 56%|█████▌    | 105/188 [04:53<03:39,  2.65s/it]"
     ]
    },
    {
     "name": "stdout",
     "output_type": "stream",
     "text": [
      "Unable to retrieve SMILES for query compound name: Cediranib (AZD2171)\n"
     ]
    },
    {
     "name": "stderr",
     "output_type": "stream",
     "text": [
      " 60%|█████▉    | 112/188 [05:11<03:25,  2.71s/it]"
     ]
    },
    {
     "name": "stdout",
     "output_type": "stream",
     "text": [
      "Unable to retrieve SMILES for query compound name: Lomustine \n"
     ]
    },
    {
     "name": "stderr",
     "output_type": "stream",
     "text": [
      " 62%|██████▏   | 117/188 [05:25<03:19,  2.81s/it]"
     ]
    },
    {
     "name": "stdout",
     "output_type": "stream",
     "text": [
      "Unable to retrieve SMILES for query compound name: Nilotinib (AMN-107)\n"
     ]
    },
    {
     "name": "stderr",
     "output_type": "stream",
     "text": [
      " 64%|██████▍   | 121/188 [05:35<03:09,  2.83s/it]"
     ]
    },
    {
     "name": "stdout",
     "output_type": "stream",
     "text": [
      "Unable to retrieve SMILES for query compound name: Iniparib (BSI-201)\n"
     ]
    },
    {
     "name": "stderr",
     "output_type": "stream",
     "text": [
      " 74%|███████▍  | 139/188 [06:27<02:25,  2.97s/it]"
     ]
    },
    {
     "name": "stdout",
     "output_type": "stream",
     "text": [
      "Unable to retrieve SMILES for query compound name: Mesna \n"
     ]
    },
    {
     "name": "stderr",
     "output_type": "stream",
     "text": [
      " 77%|███████▋  | 145/188 [06:43<02:04,  2.90s/it]"
     ]
    },
    {
     "name": "stdout",
     "output_type": "stream",
     "text": [
      "Unable to retrieve SMILES for query compound name: Azacitidine \n"
     ]
    },
    {
     "name": "stderr",
     "output_type": "stream",
     "text": [
      " 78%|███████▊  | 146/188 [06:45<01:44,  2.49s/it]"
     ]
    },
    {
     "name": "stdout",
     "output_type": "stream",
     "text": [
      "Unable to retrieve SMILES for query compound name: Capecitabine \n"
     ]
    },
    {
     "name": "stderr",
     "output_type": "stream",
     "text": [
      " 82%|████████▏ | 154/188 [07:07<01:37,  2.87s/it]"
     ]
    },
    {
     "name": "stdout",
     "output_type": "stream",
     "text": [
      "Unable to retrieve SMILES for query compound name: Tacedinaline (CI994)\n"
     ]
    },
    {
     "name": "stderr",
     "output_type": "stream",
     "text": [
      " 86%|████████▌ | 162/188 [07:29<01:15,  2.91s/it]"
     ]
    },
    {
     "name": "stdout",
     "output_type": "stream",
     "text": [
      "Unable to retrieve SMILES for query compound name: Rucaparib (AG-014699,PF-01367338) phosphate\n"
     ]
    },
    {
     "name": "stderr",
     "output_type": "stream",
     "text": [
      " 87%|████████▋ | 164/188 [07:34<01:03,  2.64s/it]"
     ]
    },
    {
     "name": "stdout",
     "output_type": "stream",
     "text": [
      "Unable to retrieve SMILES for query compound name: Fluorouracil (5-Fluoracil, 5-FU)\n"
     ]
    },
    {
     "name": "stderr",
     "output_type": "stream",
     "text": [
      " 88%|████████▊ | 166/188 [07:38<00:56,  2.56s/it]"
     ]
    },
    {
     "name": "stdout",
     "output_type": "stream",
     "text": [
      "Unable to retrieve SMILES for query compound name: Fasudil (HA-1077) HCl\n"
     ]
    },
    {
     "name": "stderr",
     "output_type": "stream",
     "text": [
      " 89%|████████▉ | 167/188 [07:40<00:47,  2.25s/it]"
     ]
    },
    {
     "name": "stdout",
     "output_type": "stream",
     "text": [
      "Unable to retrieve SMILES for query compound name: Lenalidomide (CC-5013)\n"
     ]
    },
    {
     "name": "stderr",
     "output_type": "stream",
     "text": [
      " 93%|█████████▎| 174/188 [07:59<00:39,  2.80s/it]"
     ]
    },
    {
     "name": "stdout",
     "output_type": "stream",
     "text": [
      "Unable to retrieve SMILES for query compound name: Bisindolylmaleimide IX (Ro 31-8220 Mesylate)\n"
     ]
    },
    {
     "name": "stderr",
     "output_type": "stream",
     "text": [
      " 97%|█████████▋| 183/188 [08:24<00:14,  2.85s/it]"
     ]
    },
    {
     "name": "stdout",
     "output_type": "stream",
     "text": [
      "Unable to retrieve SMILES for query compound name: Clevudine \n"
     ]
    },
    {
     "name": "stderr",
     "output_type": "stream",
     "text": [
      " 99%|█████████▉| 186/188 [08:31<00:05,  2.69s/it]"
     ]
    },
    {
     "name": "stdout",
     "output_type": "stream",
     "text": [
      "Unable to retrieve SMILES for query compound name: Regorafenib (BAY 73-4506)\n"
     ]
    },
    {
     "name": "stderr",
     "output_type": "stream",
     "text": [
      "100%|██████████| 188/188 [08:36<00:00,  2.75s/it]\n",
      "100%|██████████| 158/158 [00:00<00:00, 473.44it/s]\n"
     ]
    },
    {
     "name": "stdout",
     "output_type": "stream",
     "text": [
      "✅ \u001b[1;92mUniPert representations generated!\u001b[0m\n",
      "💡 158 perturbagens' UniPert representations saved to adata.uns['UniPert_reps']\n",
      "❗ 30 perturbagens can not be repersentated and saved to adata.uns['invalid_ptbgs']: \n",
      "['Fedratinib (SAR302503, TG101348)', 'Disulfiram ', 'Busulfan ', 'INO-1001 (3-Aminobenzamide)', 'Glesatinib?(MGCD265)', 'Aminoglutethimide ', 'Prednisone ', 'Cimetidine ', 'ENMD-2076 L-(+)-Tartaric acid ', 'Tazemetostat (EPZ-6438)', 'Mocetinostat (MGCD0103)', 'PD173074', 'Valproic acid sodium salt (Sodium valproate)', 'Streptozotocin (STZ)', 'Luminespib (AUY-922, NVP-AUY922)', 'Cediranib (AZD2171)', 'Lomustine ', 'Nilotinib (AMN-107)', 'Iniparib (BSI-201)', 'Mesna ', 'Azacitidine ', 'Capecitabine ', 'Tacedinaline (CI994)', 'Rucaparib (AG-014699,PF-01367338) phosphate', 'Fluorouracil (5-Fluoracil, 5-FU)', 'Fasudil (HA-1077) HCl', 'Lenalidomide (CC-5013)', 'Bisindolylmaleimide IX (Ro 31-8220 Mesylate)', 'Clevudine ', 'Regorafenib (BAY 73-4506)']\n"
     ]
    }
   ],
   "source": [
    "unipert.enc_ptbgs_for_pert_adata(\n",
    "    adata=adata,\n",
    "    ptbg_cols=['perturbation'],\n",
    "    ptbg_types=['chemical'],\n",
    "    control_key='control',\n",
    "    return_results=False\n",
    ")"
   ]
  },
  {
   "cell_type": "code",
   "execution_count": 7,
   "metadata": {},
   "outputs": [
    {
     "name": "stdout",
     "output_type": "stream",
     "text": [
      "💡 Retrievaling SMILES for chemical perturbagens...\n"
     ]
    },
    {
     "name": "stderr",
     "output_type": "stream",
     "text": [
      "  0%|          | 0/188 [00:00<?, ?it/s]"
     ]
    },
    {
     "name": "stdout",
     "output_type": "stream",
     "text": [
      "Unable to retrieve SMILES for query compound name: Fedratinib (SAR302503, TG101348)\n"
     ]
    },
    {
     "name": "stderr",
     "output_type": "stream",
     "text": [
      "  3%|▎         | 5/188 [00:01<00:56,  3.24it/s]"
     ]
    },
    {
     "name": "stdout",
     "output_type": "stream",
     "text": [
      "Unable to retrieve SMILES for query compound name: Disulfiram \n"
     ]
    },
    {
     "name": "stderr",
     "output_type": "stream",
     "text": [
      "  4%|▎         | 7/188 [00:03<01:26,  2.09it/s]"
     ]
    },
    {
     "name": "stdout",
     "output_type": "stream",
     "text": [
      "Unable to retrieve SMILES for query compound name: Busulfan \n"
     ]
    },
    {
     "name": "stderr",
     "output_type": "stream",
     "text": [
      "  6%|▌         | 11/188 [00:04<01:16,  2.32it/s]"
     ]
    },
    {
     "name": "stdout",
     "output_type": "stream",
     "text": [
      "Unable to retrieve SMILES for query compound name: INO-1001 (3-Aminobenzamide)\n"
     ]
    },
    {
     "name": "stderr",
     "output_type": "stream",
     "text": [
      "  9%|▊         | 16/188 [00:06<01:04,  2.67it/s]"
     ]
    },
    {
     "name": "stdout",
     "output_type": "stream",
     "text": [
      "Unable to retrieve SMILES for query compound name: Glesatinib?(MGCD265)\n"
     ]
    },
    {
     "name": "stderr",
     "output_type": "stream",
     "text": [
      " 13%|█▎        | 25/188 [00:07<00:42,  3.81it/s]"
     ]
    },
    {
     "name": "stdout",
     "output_type": "stream",
     "text": [
      "Unable to retrieve SMILES for query compound name: Aminoglutethimide \n"
     ]
    },
    {
     "name": "stderr",
     "output_type": "stream",
     "text": [
      " 19%|█▉        | 36/188 [00:09<00:30,  4.92it/s]"
     ]
    },
    {
     "name": "stdout",
     "output_type": "stream",
     "text": [
      "Unable to retrieve SMILES for query compound name: Prednisone \n"
     ]
    },
    {
     "name": "stderr",
     "output_type": "stream",
     "text": [
      " 26%|██▌       | 49/188 [00:10<00:22,  6.04it/s]"
     ]
    },
    {
     "name": "stdout",
     "output_type": "stream",
     "text": [
      "Unable to retrieve SMILES for query compound name: Cimetidine \n"
     ]
    },
    {
     "name": "stderr",
     "output_type": "stream",
     "text": [
      " 29%|██▊       | 54/188 [00:12<00:25,  5.17it/s]"
     ]
    },
    {
     "name": "stdout",
     "output_type": "stream",
     "text": [
      "Unable to retrieve SMILES for query compound name: ENMD-2076 L-(+)-Tartaric acid \n"
     ]
    },
    {
     "name": "stderr",
     "output_type": "stream",
     "text": [
      " 30%|██▉       | 56/188 [00:14<00:33,  3.89it/s]"
     ]
    },
    {
     "name": "stdout",
     "output_type": "stream",
     "text": [
      "Unable to retrieve SMILES for query compound name: Tazemetostat (EPZ-6438)\n"
     ]
    },
    {
     "name": "stderr",
     "output_type": "stream",
     "text": [
      " 36%|███▌      | 67/188 [00:15<00:24,  4.87it/s]"
     ]
    },
    {
     "name": "stdout",
     "output_type": "stream",
     "text": [
      "Unable to retrieve SMILES for query compound name: Mocetinostat (MGCD0103)\n"
     ]
    },
    {
     "name": "stderr",
     "output_type": "stream",
     "text": [
      " 40%|███▉      | 75/188 [00:17<00:22,  4.96it/s]"
     ]
    },
    {
     "name": "stdout",
     "output_type": "stream",
     "text": [
      "Unable to retrieve SMILES for query compound name: PD173074\n"
     ]
    },
    {
     "name": "stderr",
     "output_type": "stream",
     "text": [
      " 50%|█████     | 94/188 [00:18<00:13,  7.16it/s]"
     ]
    },
    {
     "name": "stdout",
     "output_type": "stream",
     "text": [
      "Unable to retrieve SMILES for query compound name: Valproic acid sodium salt (Sodium valproate)\n"
     ]
    },
    {
     "name": "stderr",
     "output_type": "stream",
     "text": [
      " 52%|█████▏    | 97/188 [00:20<00:16,  5.50it/s]"
     ]
    },
    {
     "name": "stdout",
     "output_type": "stream",
     "text": [
      "Unable to retrieve SMILES for query compound name: Streptozotocin (STZ)\n"
     ]
    },
    {
     "name": "stderr",
     "output_type": "stream",
     "text": [
      " 54%|█████▎    | 101/188 [00:21<00:18,  4.61it/s]"
     ]
    },
    {
     "name": "stdout",
     "output_type": "stream",
     "text": [
      "Unable to retrieve SMILES for query compound name: Luminespib (AUY-922, NVP-AUY922)\n"
     ]
    },
    {
     "name": "stderr",
     "output_type": "stream",
     "text": [
      " 54%|█████▍    | 102/188 [00:23<00:25,  3.44it/s]"
     ]
    },
    {
     "name": "stdout",
     "output_type": "stream",
     "text": [
      "Unable to retrieve SMILES for query compound name: Cediranib (AZD2171)\n"
     ]
    },
    {
     "name": "stderr",
     "output_type": "stream",
     "text": [
      " 56%|█████▋    | 106/188 [00:24<00:25,  3.19it/s]"
     ]
    },
    {
     "name": "stdout",
     "output_type": "stream",
     "text": [
      "Unable to retrieve SMILES for query compound name: Lomustine \n"
     ]
    },
    {
     "name": "stderr",
     "output_type": "stream",
     "text": [
      " 60%|██████    | 113/188 [00:26<00:20,  3.59it/s]"
     ]
    },
    {
     "name": "stdout",
     "output_type": "stream",
     "text": [
      "Unable to retrieve SMILES for query compound name: Nilotinib (AMN-107)\n"
     ]
    },
    {
     "name": "stderr",
     "output_type": "stream",
     "text": [
      " 63%|██████▎   | 118/188 [00:28<00:20,  3.49it/s]"
     ]
    },
    {
     "name": "stdout",
     "output_type": "stream",
     "text": [
      "Unable to retrieve SMILES for query compound name: Iniparib (BSI-201)\n"
     ]
    },
    {
     "name": "stderr",
     "output_type": "stream",
     "text": [
      " 65%|██████▍   | 122/188 [00:29<00:20,  3.23it/s]"
     ]
    },
    {
     "name": "stdout",
     "output_type": "stream",
     "text": [
      "Unable to retrieve SMILES for query compound name: Mesna \n"
     ]
    },
    {
     "name": "stderr",
     "output_type": "stream",
     "text": [
      " 74%|███████▍  | 140/188 [00:31<00:08,  5.75it/s]"
     ]
    },
    {
     "name": "stdout",
     "output_type": "stream",
     "text": [
      "Unable to retrieve SMILES for query compound name: Azacitidine \n"
     ]
    },
    {
     "name": "stderr",
     "output_type": "stream",
     "text": [
      " 78%|███████▊  | 146/188 [00:32<00:08,  5.19it/s]"
     ]
    },
    {
     "name": "stdout",
     "output_type": "stream",
     "text": [
      "Unable to retrieve SMILES for query compound name: Capecitabine \n"
     ]
    },
    {
     "name": "stderr",
     "output_type": "stream",
     "text": [
      " 78%|███████▊  | 147/188 [00:34<00:10,  3.76it/s]"
     ]
    },
    {
     "name": "stdout",
     "output_type": "stream",
     "text": [
      "Unable to retrieve SMILES for query compound name: Tacedinaline (CI994)\n"
     ]
    },
    {
     "name": "stderr",
     "output_type": "stream",
     "text": [
      " 82%|████████▏ | 155/188 [00:35<00:07,  4.18it/s]"
     ]
    },
    {
     "name": "stdout",
     "output_type": "stream",
     "text": [
      "Unable to retrieve SMILES for query compound name: Rucaparib (AG-014699,PF-01367338) phosphate\n"
     ]
    },
    {
     "name": "stderr",
     "output_type": "stream",
     "text": [
      " 87%|████████▋ | 163/188 [00:37<00:05,  4.47it/s]"
     ]
    },
    {
     "name": "stdout",
     "output_type": "stream",
     "text": [
      "Unable to retrieve SMILES for query compound name: Fluorouracil (5-Fluoracil, 5-FU)\n"
     ]
    },
    {
     "name": "stderr",
     "output_type": "stream",
     "text": [
      " 88%|████████▊ | 165/188 [00:38<00:06,  3.73it/s]"
     ]
    },
    {
     "name": "stdout",
     "output_type": "stream",
     "text": [
      "Unable to retrieve SMILES for query compound name: Fasudil (HA-1077) HCl\n"
     ]
    },
    {
     "name": "stderr",
     "output_type": "stream",
     "text": [
      " 89%|████████▉ | 167/188 [00:40<00:07,  2.97it/s]"
     ]
    },
    {
     "name": "stdout",
     "output_type": "stream",
     "text": [
      "Unable to retrieve SMILES for query compound name: Lenalidomide (CC-5013)\n"
     ]
    },
    {
     "name": "stderr",
     "output_type": "stream",
     "text": [
      " 89%|████████▉ | 168/188 [00:41<00:08,  2.26it/s]"
     ]
    },
    {
     "name": "stdout",
     "output_type": "stream",
     "text": [
      "Unable to retrieve SMILES for query compound name: Bisindolylmaleimide IX (Ro 31-8220 Mesylate)\n"
     ]
    },
    {
     "name": "stderr",
     "output_type": "stream",
     "text": [
      " 93%|█████████▎| 175/188 [00:43<00:04,  2.95it/s]"
     ]
    },
    {
     "name": "stdout",
     "output_type": "stream",
     "text": [
      "Unable to retrieve SMILES for query compound name: Clevudine \n"
     ]
    },
    {
     "name": "stderr",
     "output_type": "stream",
     "text": [
      " 98%|█████████▊| 184/188 [00:44<00:01,  3.82it/s]"
     ]
    },
    {
     "name": "stdout",
     "output_type": "stream",
     "text": [
      "Unable to retrieve SMILES for query compound name: Regorafenib (BAY 73-4506)\n"
     ]
    },
    {
     "name": "stderr",
     "output_type": "stream",
     "text": [
      "100%|██████████| 188/188 [00:46<00:00,  4.05it/s]"
     ]
    },
    {
     "name": "stdout",
     "output_type": "stream",
     "text": [
      "✅ \u001b[1;92mUniPert representations generated!\u001b[0m\n",
      "💡 158 perturbagens' UniPert representations saved to adata.uns['UniPert_reps']\n",
      "❗ 30 perturbagens can not be repersentated and saved to adata.uns['invalid_ptbgs']: \n",
      "['Fedratinib (SAR302503, TG101348)', 'Disulfiram ', 'Busulfan ', 'INO-1001 (3-Aminobenzamide)', 'Glesatinib?(MGCD265)', 'Aminoglutethimide ', 'Prednisone ', 'Cimetidine ', 'ENMD-2076 L-(+)-Tartaric acid ', 'Tazemetostat (EPZ-6438)', 'Mocetinostat (MGCD0103)', 'PD173074', 'Valproic acid sodium salt (Sodium valproate)', 'Streptozotocin (STZ)', 'Luminespib (AUY-922, NVP-AUY922)', 'Cediranib (AZD2171)', 'Lomustine ', 'Nilotinib (AMN-107)', 'Iniparib (BSI-201)', 'Mesna ', 'Azacitidine ', 'Capecitabine ', 'Tacedinaline (CI994)', 'Rucaparib (AG-014699,PF-01367338) phosphate', 'Fluorouracil (5-Fluoracil, 5-FU)', 'Fasudil (HA-1077) HCl', 'Lenalidomide (CC-5013)', 'Bisindolylmaleimide IX (Ro 31-8220 Mesylate)', 'Clevudine ', 'Regorafenib (BAY 73-4506)']\n"
     ]
    },
    {
     "name": "stderr",
     "output_type": "stream",
     "text": [
      "\n"
     ]
    }
   ],
   "source": [
    "# Try again to retrieve perturbagens not successfully retrieved before\n",
    "unipert.enc_ptbgs_for_pert_adata(\n",
    "    adata=adata,\n",
    "    ptbg_cols=['perturbation'],\n",
    "    ptbg_types=['chemical'],\n",
    "    control_key='control',\n",
    "    return_results=False\n",
    ")"
   ]
  },
  {
   "cell_type": "code",
   "execution_count": 8,
   "metadata": {},
   "outputs": [
    {
     "data": {
      "text/plain": [
       "158"
      ]
     },
     "execution_count": 8,
     "metadata": {},
     "output_type": "execute_result"
    }
   ],
   "source": [
    "len(adata.uns['UniPert_reps'])"
   ]
  },
  {
   "cell_type": "code",
   "execution_count": 9,
   "metadata": {},
   "outputs": [
    {
     "data": {
      "text/plain": [
       "['Fedratinib (SAR302503, TG101348)',\n",
       " 'Disulfiram ',\n",
       " 'Busulfan ',\n",
       " 'INO-1001 (3-Aminobenzamide)',\n",
       " 'Glesatinib?(MGCD265)',\n",
       " 'Aminoglutethimide ',\n",
       " 'Prednisone ',\n",
       " 'Cimetidine ',\n",
       " 'ENMD-2076 L-(+)-Tartaric acid ',\n",
       " 'Tazemetostat (EPZ-6438)',\n",
       " 'Mocetinostat (MGCD0103)',\n",
       " 'PD173074',\n",
       " 'Valproic acid sodium salt (Sodium valproate)',\n",
       " 'Streptozotocin (STZ)',\n",
       " 'Luminespib (AUY-922, NVP-AUY922)',\n",
       " 'Cediranib (AZD2171)',\n",
       " 'Lomustine ',\n",
       " 'Nilotinib (AMN-107)',\n",
       " 'Iniparib (BSI-201)',\n",
       " 'Mesna ',\n",
       " 'Azacitidine ',\n",
       " 'Capecitabine ',\n",
       " 'Tacedinaline (CI994)',\n",
       " 'Rucaparib (AG-014699,PF-01367338) phosphate',\n",
       " 'Fluorouracil (5-Fluoracil, 5-FU)',\n",
       " 'Fasudil (HA-1077) HCl',\n",
       " 'Lenalidomide (CC-5013)',\n",
       " 'Bisindolylmaleimide IX (Ro 31-8220 Mesylate)',\n",
       " 'Clevudine ',\n",
       " 'Regorafenib (BAY 73-4506)']"
      ]
     },
     "execution_count": 9,
     "metadata": {},
     "output_type": "execute_result"
    }
   ],
   "source": [
    "adata.uns['invalid_ptbgs']"
   ]
  }
 ],
 "metadata": {
  "kernelspec": {
   "display_name": "unipert",
   "language": "python",
   "name": "python3"
  },
  "language_info": {
   "codemirror_mode": {
    "name": "ipython",
    "version": 3
   },
   "file_extension": ".py",
   "mimetype": "text/x-python",
   "name": "python",
   "nbconvert_exporter": "python",
   "pygments_lexer": "ipython3",
   "version": "3.9.23"
  }
 },
 "nbformat": 4,
 "nbformat_minor": 2
}

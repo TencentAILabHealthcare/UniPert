{
 "cells": [
  {
   "cell_type": "markdown",
   "metadata": {},
   "source": [
    "## Tutorial: Encode Chemical Perturbagens (Small Molecules) with UniPert\n",
    "\n",
    "\n",
    "In this tutorial, we will introduce `2` ways for obtaining `chemical perturbagen embeddings` using `UniPert`:\n",
    "\n",
    "\n",
    "1. **Generating from a Compound-SMILES File**: By providing a file containing query compounds and their `SMILES`, we can directly generate UniProt embeddings of the queries. This method is suitable for cases where users already have the compound SMILES information of query perturbagens and is `faster` since it does not require additional data retrieval.\n",
    "\n",
    "2. **Generating from a Compound Name List**: If you have a list of `compound names`, we can generate the embeddings by querying the corresponding SMILES through the `PubChem API` or the `ChemSpider API`. This method is useful when you have compound names but not the direct sequence data, but it requires `internet access` and is `slower` due to the need for SMILES  retrieval.\n",
    "\n",
    "Please follow the steps and choose the appropriate method based on your needs:\n",
    "\n",
    "1. [Prepare UniPert model](#prepare-unipert-model)\n",
    "2. [Generate perturbagen embeddings](#generate-perturbagen-embeddings)\n",
    "   \n",
    "   * [From Compound-SMILES File](#from-fasta-file)\n",
    "   * [From Compound Name List](#from-gene-name-list)\n",
    "  \n",
    "3. [Save embeddings](#save-embedddings)"
   ]
  },
  {
   "cell_type": "markdown",
   "metadata": {},
   "source": [
    "## Prepare UniPert model"
   ]
  },
  {
   "cell_type": "code",
   "execution_count": 1,
   "metadata": {},
   "outputs": [
    {
     "name": "stdout",
     "output_type": "stream",
     "text": [
      "💡 \u001b[1;93mConstructing UniPert model...\u001b[0m\n",
      "✅ ESM2 model loaded.\n",
      "✅ Reference ESM2 embedding file loaded.\n",
      "✅ ESM2 embedder created.\n",
      "✅ ECFP4 embedder loaded.\n",
      "✅ UniPert model constructed.\n",
      "✅ Pretrained model file loaded.\n",
      "✅ Reference target graph prepared.\n",
      "✅ \u001b[1;92mModel loaded and initialized.\u001b[0m\n"
     ]
    }
   ],
   "source": [
    "import sys\n",
    "sys.path.append('../')\n",
    "from unipert import UniPert\n",
    "\n",
    "unipert = UniPert()"
   ]
  },
  {
   "cell_type": "markdown",
   "metadata": {},
   "source": [
    "## Generate perturbagen embeddings"
   ]
  },
  {
   "cell_type": "markdown",
   "metadata": {},
   "source": [
    "### From Compound-SMILES File\n"
   ]
  },
  {
   "cell_type": "markdown",
   "metadata": {},
   "source": [
    "#### Load compound-SMILES file and convert to dict as input"
   ]
  },
  {
   "cell_type": "markdown",
   "metadata": {},
   "source": [
    "##### load and convert .csv file"
   ]
  },
  {
   "cell_type": "code",
   "execution_count": 2,
   "metadata": {},
   "outputs": [
    {
     "data": {
      "text/plain": [
       "{'Aspirin': 'CC(=O)OC1=CC=CC=C1C(=O)O'}"
      ]
     },
     "execution_count": 2,
     "metadata": {},
     "output_type": "execute_result"
    }
   ],
   "source": [
    "# Assuming the CSV has columns 'cmpdname' and 'canonicalsmiles' corrosponding to query compounds and their SMILES\n",
    "\n",
    "import pandas as pd\n",
    "\n",
    "df = pd.read_csv('../demo_data/PubChem_compound_text_asprin.csv')\n",
    "compound_dict = df.set_index('cmpdname')['canonicalsmiles'].to_dict()\n",
    "compound_dict\n"
   ]
  },
  {
   "cell_type": "code",
   "execution_count": 5,
   "metadata": {},
   "outputs": [
    {
     "data": {
      "text/plain": [
       "{'HYDRAZINE': 'NN',\n",
       " 'ADENOSINE DIPHOSPHATE': 'Nc1ncnc2c1ncn2[C@@H]1O[C@H](COP(=O)(O)OP(=O)(O)O)[C@@H](O)[C@H]1O',\n",
       " 'BENZO[DEF]CHRYSENE': 'c1ccc2c(c1)cc1ccc3cccc4ccc2c1c34',\n",
       " 'EUGENOL': 'C=CCc1ccc(O)c(OC)c1',\n",
       " 'DCFBC F-18': 'O=C(O)CC[C@H](NC(=O)N[C@@H](CSCc1ccc([18F])cc1)C(=O)O)C(=O)O',\n",
       " 'DCFBC': 'O=C(O)CC[C@H](NC(=O)N[C@@H](CSCc1ccc(F)cc1)C(=O)O)C(=O)O',\n",
       " 'PARAXANTHINE': 'Cn1c(=O)[nH]c2ncn(C)c2c1=O',\n",
       " 'RHODAMINE 6G': 'CC/N=c1\\\\cc2oc3cc(NCC)c(C)cc3c(-c3ccccc3C(=O)OCC)c-2cc1C',\n",
       " 'BULOXIBUTID': 'CCCCOC(=O)NS(=O)(=O)c1sc(CC(C)C)cc1-c1ccc(Cn2ccnc2)cc1',\n",
       " 'METHYL-D9-CHOLINE': '[2H]C([2H])([2H])[N+](CCO)(C([2H])([2H])[2H])C([2H])([2H])[2H]',\n",
       " 'HESPERETIN': 'COc1ccc([C@@H]2CC(=O)c3c(O)cc(O)cc3O2)cc1O',\n",
       " 'CHOLINE': 'C[N+](C)(C)CCO',\n",
       " 'JHU-75528 C-11': '[11CH3]Oc1ccc(-c2c(C#N)c(C(=O)NN3CCCCC3)nn2-c2ccc(Cl)cc2Cl)cc1',\n",
       " 'DSP-0390': 'CC1(C)Oc2cc(Cl)ccc2[C@@H]2OCC3(CCN(CCn4ccnc4)CC3)C[C@H]21',\n",
       " 'CITRULLINE MALATE': 'NC(=O)NCCC[C@H](N)C(=O)O.O=C(O)CC(O)C(=O)O',\n",
       " 'NOP-1A': 'CNC(=O)[C@@H](Cc1ccccc1F)CN1CCC2(CC1)OCCc1cc(F)sc12',\n",
       " 'CYPROTERONE': 'CC(=O)[C@@]1(O)CC[C@H]2[C@@H]3C=C(Cl)C4=CC(=O)[C@@H]5C[C@@H]5[C@]4(C)[C@H]3CC[C@@]21C',\n",
       " 'GINSENOSIDE RE': 'CC(C)=CCC[C@](C)(O[C@@H]1O[C@H](CO)[C@@H](O)[C@H](O)[C@H]1O)[C@H]1CC[C@]2(C)[C@@H]1[C@H](O)C[C@@H]1[C@@]3(C)CC[C@H](O)C(C)(C)[C@@H]3[C@@H](O[C@@H]3O[C@H](CO)[C@@H](O)[C@H](O)[C@H]3O[C@@H]3O[C@@H](C)[C@H](O)[C@@H](O)[C@H]3O)C[C@]12C'}"
      ]
     },
     "execution_count": 5,
     "metadata": {},
     "output_type": "execute_result"
    }
   ],
   "source": [
    "# Assuming the CSV has columns 'Name' and 'Smiles' corrosponding to query compounds and their SMILES\n",
    "\n",
    "import pandas as pd\n",
    "\n",
    "df = pd.read_csv('../demo_data/ChEMBL_compounds.csv', delimiter=';')\n",
    "compound_dict = df.set_index('Name')['Smiles'].to_dict()\n",
    "compound_dict\n"
   ]
  },
  {
   "cell_type": "markdown",
   "metadata": {},
   "source": [
    "##### load and convert .xlsx file"
   ]
  },
  {
   "cell_type": "code",
   "execution_count": 6,
   "metadata": {},
   "outputs": [
    {
     "data": {
      "text/plain": [
       "{'Aspirin': 'CC(=O)OC1=CC=CC=C1C(=O)O',\n",
       " 'Hydrazine': 'N2H4',\n",
       " 'Adrenaline': 'C9H13NO3',\n",
       " 'Caffeine': 'C8H10N4O2'}"
      ]
     },
     "execution_count": 6,
     "metadata": {},
     "output_type": "execute_result"
    }
   ],
   "source": [
    "# The .xlsx file should have columns 'name' and 'smiles'.\n",
    "\n",
    "import pandas as pd\n",
    "\n",
    "df = pd.read_excel('../demo_data/test_compounds.xlsx')\n",
    "compound_dict = df.set_index('name')['smiles'].to_dict()\n",
    "\n",
    "compound_dict"
   ]
  },
  {
   "cell_type": "markdown",
   "metadata": {},
   "source": [
    "##### load and convert .txt file"
   ]
  },
  {
   "cell_type": "code",
   "execution_count": 8,
   "metadata": {},
   "outputs": [
    {
     "data": {
      "text/plain": [
       "{'Aspirin': 'CC(=O)OC1=CC=CC=C1C(=O)O',\n",
       " 'Hydrazine': 'NN',\n",
       " 'Adrenaline': 'CNC[C@@H](C1=CC(=C(C=C1)O)O)O',\n",
       " 'Caffeine': 'CN1C=NC2=C1C(=O)N(C(=O)N2C)C'}"
      ]
     },
     "execution_count": 8,
     "metadata": {},
     "output_type": "execute_result"
    }
   ],
   "source": [
    "# The .txt file should have two columns: compound name and SMILES, separated by a tab.\n",
    "\n",
    "compound_dict = {}\n",
    "with open('../demo_data/test_compounds.txt', 'r') as f:\n",
    "    for line in f:\n",
    "        name, smiles = line.strip().split('\\t')  # Assuming tab-separated values\n",
    "        compound_dict[name] = smiles\n",
    "\n",
    "compound_dict"
   ]
  },
  {
   "cell_type": "markdown",
   "metadata": {},
   "source": [
    "#### Generate UniPert embeddings"
   ]
  },
  {
   "cell_type": "code",
   "execution_count": 3,
   "metadata": {},
   "outputs": [
    {
     "name": "stderr",
     "output_type": "stream",
     "text": [
      "100%|██████████| 4/4 [00:00<00:00, 538.96it/s]\n"
     ]
    }
   ],
   "source": [
    "out_embs, invalid_inputs = unipert.enc_chem_ptbgs_from_dict(compound_dict)"
   ]
  },
  {
   "cell_type": "code",
   "execution_count": 4,
   "metadata": {},
   "outputs": [
    {
     "data": {
      "text/plain": [
       "(dict_keys(['Aspirin', 'Hydrazine', 'Adrenaline', 'Caffeine']), [])"
      ]
     },
     "execution_count": 4,
     "metadata": {},
     "output_type": "execute_result"
    }
   ],
   "source": [
    "out_embs.keys(), invalid_inputs"
   ]
  },
  {
   "cell_type": "code",
   "execution_count": 5,
   "metadata": {},
   "outputs": [
    {
     "data": {
      "text/plain": [
       "(4, 256)"
      ]
     },
     "execution_count": 5,
     "metadata": {},
     "output_type": "execute_result"
    }
   ],
   "source": [
    "import numpy as np\n",
    "\n",
    "combined_embs = np.concatenate([emb.reshape(1, -1) for emb in out_embs.values()], axis=0)\n",
    "combined_embs.shape"
   ]
  },
  {
   "cell_type": "markdown",
   "metadata": {},
   "source": [
    "### From Compound Name List"
   ]
  },
  {
   "cell_type": "markdown",
   "metadata": {},
   "source": [
    "#### Generate UniPert embeddings for gene name list\n",
    "\n",
    "UniPert will retrieve corrosponding canonical amino acid sequences via UniProt website API and generate the embeddings."
   ]
  },
  {
   "cell_type": "code",
   "execution_count": 3,
   "metadata": {},
   "outputs": [],
   "source": [
    "cp_list = ['Lepirudin', 'Cetuximab', 'Bivalirudin', 'Aspirin']"
   ]
  },
  {
   "cell_type": "code",
   "execution_count": 4,
   "metadata": {},
   "outputs": [
    {
     "name": "stdout",
     "output_type": "stream",
     "text": [
      "✅ chemspider server connected successfully.\n",
      "Unable to retrieve SMILES for query compound name: Lepirudin\n",
      "Unable to retrieve SMILES for query compound name: Cetuximab\n",
      "Unable to retrieve SMILES for query compound name: Bivalirudin\n",
      "Unable to retrieve SMILES for query compound name: Aspirin\n"
     ]
    },
    {
     "name": "stderr",
     "output_type": "stream",
     "text": [
      "0it [00:00, ?it/s]\n"
     ]
    }
   ],
   "source": [
    "out_embs, invalid_inputs = unipert.enc_chem_ptbgs_from_compound_names(cp_list)"
   ]
  },
  {
   "cell_type": "code",
   "execution_count": 12,
   "metadata": {},
   "outputs": [
    {
     "data": {
      "text/plain": [
       "(dict_keys(['Lepirudin', 'Cetuximab', 'Bivalirudin', 'Aspirin']), [])"
      ]
     },
     "execution_count": 12,
     "metadata": {},
     "output_type": "execute_result"
    }
   ],
   "source": [
    "out_embs.keys(), invalid_inputs"
   ]
  },
  {
   "cell_type": "code",
   "execution_count": 13,
   "metadata": {},
   "outputs": [
    {
     "data": {
      "text/plain": [
       "(4, 256)"
      ]
     },
     "execution_count": 13,
     "metadata": {},
     "output_type": "execute_result"
    }
   ],
   "source": [
    "import numpy as np\n",
    "\n",
    "combined_embs = np.concatenate([emb.reshape(1, -1) for emb in out_embs.values()], axis=0)\n",
    "combined_embs.shape"
   ]
  },
  {
   "cell_type": "markdown",
   "metadata": {},
   "source": [
    "## Save embedddings"
   ]
  },
  {
   "cell_type": "code",
   "execution_count": 14,
   "metadata": {},
   "outputs": [],
   "source": [
    "import pickle\n",
    "\n",
    "with open('../demo_data/embeddings_output.pkl', 'wb') as f:\n",
    "    pickle.dump(out_embs, f) \n"
   ]
  }
 ],
 "metadata": {
  "kernelspec": {
   "display_name": "performer",
   "language": "python",
   "name": "python3"
  },
  "language_info": {
   "codemirror_mode": {
    "name": "ipython",
    "version": 3
   },
   "file_extension": ".py",
   "mimetype": "text/x-python",
   "name": "python",
   "nbconvert_exporter": "python",
   "pygments_lexer": "ipython3",
   "version": "3.9.21"
  }
 },
 "nbformat": 4,
 "nbformat_minor": 2
}
